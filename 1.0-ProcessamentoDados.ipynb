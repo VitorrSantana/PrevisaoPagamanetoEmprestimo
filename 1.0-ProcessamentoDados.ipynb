{
 "cells": [
  {
   "cell_type": "code",
   "execution_count": 1,
   "metadata": {},
   "outputs": [],
   "source": [
    "# Importação das Bibliotecas que serão utilizadas\n",
    "import pandas as pd\n",
    "import numpy as np\n",
    "from utils import grafico_distribuicao,label_encoder,set_col_nan,set_nan_negative,replace_col,calc_days_between_date,create_flag"
   ]
  },
  {
   "cell_type": "code",
   "execution_count": 2,
   "metadata": {},
   "outputs": [],
   "source": [
    "# Caminho relativo para os Dados Brutos\n",
    "path_cadastral     = 'data/raw/base_cadastral.csv'\n",
    "path_info          = 'data/raw/base_info.csv'\n",
    "path_pagament_dev  = 'data/raw/base_pagamentos_desenvolvimento.csv'\n",
    "path_pagament_test = 'data/raw/base_pagamentos_teste.csv'"
   ]
  },
  {
   "cell_type": "code",
   "execution_count": 3,
   "metadata": {},
   "outputs": [],
   "source": [
    "path_data_final = 'data/processing/mergin_data_final.parquet'"
   ]
  },
  {
   "attachments": {},
   "cell_type": "markdown",
   "metadata": {},
   "source": [
    "### Base Cadastral"
   ]
  },
  {
   "cell_type": "code",
   "execution_count": 4,
   "metadata": {},
   "outputs": [
    {
     "data": {
      "text/html": [
       "<div>\n",
       "<style scoped>\n",
       "    .dataframe tbody tr th:only-of-type {\n",
       "        vertical-align: middle;\n",
       "    }\n",
       "\n",
       "    .dataframe tbody tr th {\n",
       "        vertical-align: top;\n",
       "    }\n",
       "\n",
       "    .dataframe thead th {\n",
       "        text-align: right;\n",
       "    }\n",
       "</style>\n",
       "<table border=\"1\" class=\"dataframe\">\n",
       "  <thead>\n",
       "    <tr style=\"text-align: right;\">\n",
       "      <th></th>\n",
       "      <th>ID_CLIENTE</th>\n",
       "      <th>DATA_CADASTRO</th>\n",
       "      <th>DDD</th>\n",
       "      <th>FLAG_PF</th>\n",
       "      <th>SEGMENTO_INDUSTRIAL</th>\n",
       "      <th>DOMINIO_EMAIL</th>\n",
       "      <th>PORTE</th>\n",
       "      <th>CEP_2_DIG</th>\n",
       "    </tr>\n",
       "  </thead>\n",
       "  <tbody>\n",
       "    <tr>\n",
       "      <th>0</th>\n",
       "      <td>1661240395903230676</td>\n",
       "      <td>2013-08-22</td>\n",
       "      <td>99</td>\n",
       "      <td>NaN</td>\n",
       "      <td>Serviços</td>\n",
       "      <td>YAHOO</td>\n",
       "      <td>PEQUENO</td>\n",
       "      <td>65</td>\n",
       "    </tr>\n",
       "    <tr>\n",
       "      <th>1</th>\n",
       "      <td>8274986328479596038</td>\n",
       "      <td>2017-01-25</td>\n",
       "      <td>31</td>\n",
       "      <td>NaN</td>\n",
       "      <td>Comércio</td>\n",
       "      <td>YAHOO</td>\n",
       "      <td>MEDIO</td>\n",
       "      <td>77</td>\n",
       "    </tr>\n",
       "    <tr>\n",
       "      <th>2</th>\n",
       "      <td>345447888460137901</td>\n",
       "      <td>2000-08-15</td>\n",
       "      <td>75</td>\n",
       "      <td>NaN</td>\n",
       "      <td>Serviços</td>\n",
       "      <td>HOTMAIL</td>\n",
       "      <td>PEQUENO</td>\n",
       "      <td>48</td>\n",
       "    </tr>\n",
       "    <tr>\n",
       "      <th>3</th>\n",
       "      <td>1003144834589372198</td>\n",
       "      <td>2017-08-06</td>\n",
       "      <td>49</td>\n",
       "      <td>NaN</td>\n",
       "      <td>Serviços</td>\n",
       "      <td>OUTLOOK</td>\n",
       "      <td>PEQUENO</td>\n",
       "      <td>89</td>\n",
       "    </tr>\n",
       "    <tr>\n",
       "      <th>4</th>\n",
       "      <td>324916756972236008</td>\n",
       "      <td>2011-02-14</td>\n",
       "      <td>88</td>\n",
       "      <td>NaN</td>\n",
       "      <td>Serviços</td>\n",
       "      <td>GMAIL</td>\n",
       "      <td>GRANDE</td>\n",
       "      <td>62</td>\n",
       "    </tr>\n",
       "  </tbody>\n",
       "</table>\n",
       "</div>"
      ],
      "text/plain": [
       "            ID_CLIENTE DATA_CADASTRO DDD FLAG_PF SEGMENTO_INDUSTRIAL  \\\n",
       "0  1661240395903230676    2013-08-22  99     NaN            Serviços   \n",
       "1  8274986328479596038    2017-01-25  31     NaN            Comércio   \n",
       "2   345447888460137901    2000-08-15  75     NaN            Serviços   \n",
       "3  1003144834589372198    2017-08-06  49     NaN            Serviços   \n",
       "4   324916756972236008    2011-02-14  88     NaN            Serviços   \n",
       "\n",
       "  DOMINIO_EMAIL    PORTE CEP_2_DIG  \n",
       "0         YAHOO  PEQUENO        65  \n",
       "1         YAHOO    MEDIO        77  \n",
       "2       HOTMAIL  PEQUENO        48  \n",
       "3       OUTLOOK  PEQUENO        89  \n",
       "4         GMAIL   GRANDE        62  "
      ]
     },
     "execution_count": 4,
     "metadata": {},
     "output_type": "execute_result"
    }
   ],
   "source": [
    "base_cadastral = pd.read_csv(path_cadastral)\n",
    "base_cadastral.head()"
   ]
  },
  {
   "cell_type": "code",
   "execution_count": 5,
   "metadata": {},
   "outputs": [
    {
     "name": "stdout",
     "output_type": "stream",
     "text": [
      "<class 'pandas.core.frame.DataFrame'>\n",
      "RangeIndex: 1315 entries, 0 to 1314\n",
      "Data columns (total 8 columns):\n",
      " #   Column               Non-Null Count  Dtype \n",
      "---  ------               --------------  ----- \n",
      " 0   ID_CLIENTE           1315 non-null   int64 \n",
      " 1   DATA_CADASTRO        1315 non-null   object\n",
      " 2   DDD                  1078 non-null   object\n",
      " 3   FLAG_PF              66 non-null     object\n",
      " 4   SEGMENTO_INDUSTRIAL  1232 non-null   object\n",
      " 5   DOMINIO_EMAIL        1285 non-null   object\n",
      " 6   PORTE                1274 non-null   object\n",
      " 7   CEP_2_DIG            1315 non-null   object\n",
      "dtypes: int64(1), object(7)\n",
      "memory usage: 82.3+ KB\n"
     ]
    }
   ],
   "source": [
    "base_cadastral.info()"
   ]
  },
  {
   "cell_type": "code",
   "execution_count": 6,
   "metadata": {},
   "outputs": [],
   "source": [
    "base_cadastral['ANO_CADASTRO'] = base_cadastral['DATA_CADASTRO'].str[:4]"
   ]
  },
  {
   "cell_type": "code",
   "execution_count": 12,
   "metadata": {},
   "outputs": [
    {
     "data": {
      "image/png": "[encoded data removed]",
      "text/plain": [
       "<Figure size 432x288 with 1 Axes>"
      ]
     },
     "metadata": {
      "needs_background": "light"
     },
     "output_type": "display_data"
    },
    {
     "data": {
      "image/png": "[encoded data removed]",
      "text/plain": [
       "<Figure size 432x288 with 1 Axes>"
      ]
     },
     "metadata": {
      "needs_background": "light"
     },
     "output_type": "display_data"
    },
    {
     "data": {
      "image/png": "[encoded data removed]",
      "text/plain": [
       "<Figure size 432x288 with 1 Axes>"
      ]
     },
     "metadata": {
      "needs_background": "light"
     },
     "output_type": "display_data"
    },
    {
     "data": {
      "image/png": "[encoded data removed]",
      "text/plain": [
       "<Figure size 432x288 with 1 Axes>"
      ]
     },
     "metadata": {
      "needs_background": "light"
     },
     "output_type": "display_data"
    },
    {
     "data": {
      "image/png": "[encoded data removed]",
      "text/plain": [
       "<Figure size 432x288 with 1 Axes>"
      ]
     },
     "metadata": {
      "needs_background": "light"
     },
     "output_type": "display_data"
    }
   ],
   "source": [
    "titulos = ['Distribuição dos Segmentos','Distribuição dos Dominios de Email','Distribuição do Porte','Distribuição do Ano de Cadatro','Distribuiçãp CEP 2 DIG']\n",
    "colunas = ['SEGMENTO_INDUSTRIAL','DOMINIO_EMAIL','PORTE','ANO_CADASTRO','CEP_2_DIG']\n",
    "\n",
    "for titulo,coluna in zip(titulos,colunas):\n",
    "    grafico_distribuicao(base_cadastral,titulo,coluna)"
   ]
  },
  {
   "cell_type": "code",
   "execution_count": 9,
   "metadata": {},
   "outputs": [
    {
     "data": {
      "text/html": [
       "<div>\n",
       "<style scoped>\n",
       "    .dataframe tbody tr th:only-of-type {\n",
       "        vertical-align: middle;\n",
       "    }\n",
       "\n",
       "    .dataframe tbody tr th {\n",
       "        vertical-align: top;\n",
       "    }\n",
       "\n",
       "    .dataframe thead th {\n",
       "        text-align: right;\n",
       "    }\n",
       "</style>\n",
       "<table border=\"1\" class=\"dataframe\">\n",
       "  <thead>\n",
       "    <tr style=\"text-align: right;\">\n",
       "      <th></th>\n",
       "      <th>ID_CLIENTE</th>\n",
       "      <th>DATA_CADASTRO</th>\n",
       "      <th>DDD</th>\n",
       "      <th>FLAG_PF</th>\n",
       "      <th>SEGMENTO_INDUSTRIAL</th>\n",
       "      <th>DOMINIO_EMAIL</th>\n",
       "      <th>PORTE</th>\n",
       "      <th>CEP_2_DIG</th>\n",
       "      <th>ANO_CADASTRO</th>\n",
       "    </tr>\n",
       "  </thead>\n",
       "  <tbody>\n",
       "    <tr>\n",
       "      <th>934</th>\n",
       "      <td>3903290047715748290</td>\n",
       "      <td>2019-10-07</td>\n",
       "      <td>NaN</td>\n",
       "      <td>NaN</td>\n",
       "      <td>Indústria</td>\n",
       "      <td>HOTMAIL</td>\n",
       "      <td>PEQUENO</td>\n",
       "      <td>na</td>\n",
       "      <td>2019</td>\n",
       "    </tr>\n",
       "  </tbody>\n",
       "</table>\n",
       "</div>"
      ],
      "text/plain": [
       "              ID_CLIENTE DATA_CADASTRO  DDD FLAG_PF SEGMENTO_INDUSTRIAL  \\\n",
       "934  3903290047715748290    2019-10-07  NaN     NaN           Indústria   \n",
       "\n",
       "    DOMINIO_EMAIL    PORTE CEP_2_DIG ANO_CADASTRO  \n",
       "934       HOTMAIL  PEQUENO        na         2019  "
      ]
     },
     "execution_count": 9,
     "metadata": {},
     "output_type": "execute_result"
    }
   ],
   "source": [
    "base_cadastral[base_cadastral['CEP_2_DIG']=='na']"
   ]
  },
  {
   "cell_type": "code",
   "execution_count": 10,
   "metadata": {},
   "outputs": [],
   "source": [
    "base_cadastral['DDD'] = replace_col(base_cadastral,'DDD','(','9')\n",
    "base_cadastral['DDD'] = label_encoder(base_cadastral,'DDD')"
   ]
  },
  {
   "cell_type": "code",
   "execution_count": 11,
   "metadata": {},
   "outputs": [],
   "source": [
    "base_cadastral['SEGMENTO_INDUSTRIAL'] = label_encoder(base_cadastral,'SEGMENTO_INDUSTRIAL') \n",
    "base_cadastral['DOMINIO_EMAIL']       = label_encoder(base_cadastral,'DOMINIO_EMAIL') \n",
    "base_cadastral['PORTE']               = label_encoder(base_cadastral,'PORTE')\n",
    "base_cadastral['CEP_2_DIG']           = replace_col(base_cadastral,'CEP_2_DIG','na',np.nan)\n",
    "base_cadastral['CEP_2_DIG']           = label_encoder(base_cadastral,'CEP_2_DIG')\n",
    "base_cadastral['FLAG_PF']             = label_encoder(base_cadastral,'FLAG_PF')"
   ]
  },
  {
   "attachments": {},
   "cell_type": "markdown",
   "metadata": {},
   "source": [
    "### Base Informações"
   ]
  },
  {
   "cell_type": "code",
   "execution_count": 10,
   "metadata": {},
   "outputs": [
    {
     "data": {
      "text/html": [
       "<div>\n",
       "<style scoped>\n",
       "    .dataframe tbody tr th:only-of-type {\n",
       "        vertical-align: middle;\n",
       "    }\n",
       "\n",
       "    .dataframe tbody tr th {\n",
       "        vertical-align: top;\n",
       "    }\n",
       "\n",
       "    .dataframe thead th {\n",
       "        text-align: right;\n",
       "    }\n",
       "</style>\n",
       "<table border=\"1\" class=\"dataframe\">\n",
       "  <thead>\n",
       "    <tr style=\"text-align: right;\">\n",
       "      <th></th>\n",
       "      <th>ID_CLIENTE</th>\n",
       "      <th>SAFRA_REF</th>\n",
       "      <th>RENDA_MES_ANTERIOR</th>\n",
       "      <th>NO_FUNCIONARIOS</th>\n",
       "    </tr>\n",
       "  </thead>\n",
       "  <tbody>\n",
       "    <tr>\n",
       "      <th>0</th>\n",
       "      <td>1661240395903230676</td>\n",
       "      <td>2018-09</td>\n",
       "      <td>16913.0</td>\n",
       "      <td>92.0</td>\n",
       "    </tr>\n",
       "    <tr>\n",
       "      <th>1</th>\n",
       "      <td>8274986328479596038</td>\n",
       "      <td>2018-09</td>\n",
       "      <td>106430.0</td>\n",
       "      <td>141.0</td>\n",
       "    </tr>\n",
       "    <tr>\n",
       "      <th>2</th>\n",
       "      <td>345447888460137901</td>\n",
       "      <td>2018-09</td>\n",
       "      <td>707439.0</td>\n",
       "      <td>99.0</td>\n",
       "    </tr>\n",
       "    <tr>\n",
       "      <th>3</th>\n",
       "      <td>1003144834589372198</td>\n",
       "      <td>2018-09</td>\n",
       "      <td>239659.0</td>\n",
       "      <td>96.0</td>\n",
       "    </tr>\n",
       "    <tr>\n",
       "      <th>4</th>\n",
       "      <td>324916756972236008</td>\n",
       "      <td>2018-09</td>\n",
       "      <td>203123.0</td>\n",
       "      <td>103.0</td>\n",
       "    </tr>\n",
       "  </tbody>\n",
       "</table>\n",
       "</div>"
      ],
      "text/plain": [
       "            ID_CLIENTE SAFRA_REF  RENDA_MES_ANTERIOR  NO_FUNCIONARIOS\n",
       "0  1661240395903230676   2018-09             16913.0             92.0\n",
       "1  8274986328479596038   2018-09            106430.0            141.0\n",
       "2   345447888460137901   2018-09            707439.0             99.0\n",
       "3  1003144834589372198   2018-09            239659.0             96.0\n",
       "4   324916756972236008   2018-09            203123.0            103.0"
      ]
     },
     "execution_count": 10,
     "metadata": {},
     "output_type": "execute_result"
    }
   ],
   "source": [
    "base_info = pd.read_csv(path_info)\n",
    "base_info.head()"
   ]
  },
  {
   "cell_type": "code",
   "execution_count": 11,
   "metadata": {},
   "outputs": [
    {
     "name": "stdout",
     "output_type": "stream",
     "text": [
      "<class 'pandas.core.frame.DataFrame'>\n",
      "RangeIndex: 24401 entries, 0 to 24400\n",
      "Data columns (total 4 columns):\n",
      " #   Column              Non-Null Count  Dtype  \n",
      "---  ------              --------------  -----  \n",
      " 0   ID_CLIENTE          24401 non-null  int64  \n",
      " 1   SAFRA_REF           24401 non-null  object \n",
      " 2   RENDA_MES_ANTERIOR  24401 non-null  float64\n",
      " 3   NO_FUNCIONARIOS     24401 non-null  float64\n",
      "dtypes: float64(2), int64(1), object(1)\n",
      "memory usage: 762.7+ KB\n"
     ]
    }
   ],
   "source": [
    "base_info.info()"
   ]
  },
  {
   "cell_type": "code",
   "execution_count": 12,
   "metadata": {},
   "outputs": [
    {
     "data": {
      "text/plain": [
       "ID_CLIENTE\n",
       "8784237149961904     40\n",
       "15070048310374146     6\n",
       "18719614953021044     9\n",
       "39547025441582855    35\n",
       "43266641219008038     2\n",
       "49632905576538927    23\n",
       "51762959302415533     2\n",
       "66220087398241662    24\n",
       "69766362497027920    22\n",
       "86110062990790869    35\n",
       "Name: NO_FUNCIONARIOS, dtype: int64"
      ]
     },
     "execution_count": 12,
     "metadata": {},
     "output_type": "execute_result"
    }
   ],
   "source": [
    "base_info.groupby(['ID_CLIENTE'])['NO_FUNCIONARIOS'].count().head(10)"
   ]
  },
  {
   "attachments": {},
   "cell_type": "markdown",
   "metadata": {},
   "source": [
    "### Base de Pagamentos"
   ]
  },
  {
   "cell_type": "code",
   "execution_count": 13,
   "metadata": {},
   "outputs": [
    {
     "data": {
      "text/html": [
       "<div>\n",
       "<style scoped>\n",
       "    .dataframe tbody tr th:only-of-type {\n",
       "        vertical-align: middle;\n",
       "    }\n",
       "\n",
       "    .dataframe tbody tr th {\n",
       "        vertical-align: top;\n",
       "    }\n",
       "\n",
       "    .dataframe thead th {\n",
       "        text-align: right;\n",
       "    }\n",
       "</style>\n",
       "<table border=\"1\" class=\"dataframe\">\n",
       "  <thead>\n",
       "    <tr style=\"text-align: right;\">\n",
       "      <th></th>\n",
       "      <th>ID_CLIENTE</th>\n",
       "      <th>SAFRA_REF</th>\n",
       "      <th>DATA_EMISSAO_DOCUMENTO</th>\n",
       "      <th>DATA_PAGAMENTO</th>\n",
       "      <th>DATA_VENCIMENTO</th>\n",
       "      <th>VALOR_A_PAGAR</th>\n",
       "      <th>TAXA</th>\n",
       "    </tr>\n",
       "  </thead>\n",
       "  <tbody>\n",
       "    <tr>\n",
       "      <th>0</th>\n",
       "      <td>1661240395903230676</td>\n",
       "      <td>2018-08</td>\n",
       "      <td>2018-08-17</td>\n",
       "      <td>2018-09-06</td>\n",
       "      <td>2018-09-06</td>\n",
       "      <td>35516.41</td>\n",
       "      <td>6.99</td>\n",
       "    </tr>\n",
       "    <tr>\n",
       "      <th>1</th>\n",
       "      <td>1661240395903230676</td>\n",
       "      <td>2018-08</td>\n",
       "      <td>2018-08-19</td>\n",
       "      <td>2018-09-11</td>\n",
       "      <td>2018-09-10</td>\n",
       "      <td>17758.21</td>\n",
       "      <td>6.99</td>\n",
       "    </tr>\n",
       "    <tr>\n",
       "      <th>2</th>\n",
       "      <td>1661240395903230676</td>\n",
       "      <td>2018-08</td>\n",
       "      <td>2018-08-26</td>\n",
       "      <td>2018-09-18</td>\n",
       "      <td>2018-09-17</td>\n",
       "      <td>17431.96</td>\n",
       "      <td>6.99</td>\n",
       "    </tr>\n",
       "    <tr>\n",
       "      <th>3</th>\n",
       "      <td>1661240395903230676</td>\n",
       "      <td>2018-08</td>\n",
       "      <td>2018-08-30</td>\n",
       "      <td>2018-10-11</td>\n",
       "      <td>2018-10-05</td>\n",
       "      <td>1341.00</td>\n",
       "      <td>6.99</td>\n",
       "    </tr>\n",
       "    <tr>\n",
       "      <th>4</th>\n",
       "      <td>1661240395903230676</td>\n",
       "      <td>2018-08</td>\n",
       "      <td>2018-08-31</td>\n",
       "      <td>2018-09-20</td>\n",
       "      <td>2018-09-20</td>\n",
       "      <td>21309.85</td>\n",
       "      <td>6.99</td>\n",
       "    </tr>\n",
       "  </tbody>\n",
       "</table>\n",
       "</div>"
      ],
      "text/plain": [
       "            ID_CLIENTE SAFRA_REF DATA_EMISSAO_DOCUMENTO DATA_PAGAMENTO  \\\n",
       "0  1661240395903230676   2018-08             2018-08-17     2018-09-06   \n",
       "1  1661240395903230676   2018-08             2018-08-19     2018-09-11   \n",
       "2  1661240395903230676   2018-08             2018-08-26     2018-09-18   \n",
       "3  1661240395903230676   2018-08             2018-08-30     2018-10-11   \n",
       "4  1661240395903230676   2018-08             2018-08-31     2018-09-20   \n",
       "\n",
       "  DATA_VENCIMENTO  VALOR_A_PAGAR  TAXA  \n",
       "0      2018-09-06       35516.41  6.99  \n",
       "1      2018-09-10       17758.21  6.99  \n",
       "2      2018-09-17       17431.96  6.99  \n",
       "3      2018-10-05        1341.00  6.99  \n",
       "4      2018-09-20       21309.85  6.99  "
      ]
     },
     "execution_count": 13,
     "metadata": {},
     "output_type": "execute_result"
    }
   ],
   "source": [
    "base_pagamentos_dev = pd.read_csv(path_pagament_dev)\n",
    "base_pagamentos_dev.head()"
   ]
  },
  {
   "cell_type": "code",
   "execution_count": 14,
   "metadata": {},
   "outputs": [
    {
     "name": "stdout",
     "output_type": "stream",
     "text": [
      "<class 'pandas.core.frame.DataFrame'>\n",
      "RangeIndex: 77414 entries, 0 to 77413\n",
      "Data columns (total 7 columns):\n",
      " #   Column                  Non-Null Count  Dtype  \n",
      "---  ------                  --------------  -----  \n",
      " 0   ID_CLIENTE              77414 non-null  int64  \n",
      " 1   SAFRA_REF               77414 non-null  object \n",
      " 2   DATA_EMISSAO_DOCUMENTO  77414 non-null  object \n",
      " 3   DATA_PAGAMENTO          77414 non-null  object \n",
      " 4   DATA_VENCIMENTO         77414 non-null  object \n",
      " 5   VALOR_A_PAGAR           77414 non-null  float64\n",
      " 6   TAXA                    77414 non-null  float64\n",
      "dtypes: float64(2), int64(1), object(4)\n",
      "memory usage: 4.1+ MB\n"
     ]
    }
   ],
   "source": [
    "base_pagamentos_dev.info()"
   ]
  },
  {
   "cell_type": "code",
   "execution_count": 15,
   "metadata": {},
   "outputs": [],
   "source": [
    "base_pagamentos_dev['QTD_DIAS_EMISSAO_VENCIMENTO'] = calc_days_between_date(base_pagamentos_dev,'DATA_VENCIMENTO','DATA_EMISSAO_DOCUMENTO')\n",
    "base_pagamentos_dev['DIAS_ATRASO'] = calc_days_between_date(base_pagamentos_dev,'DATA_PAGAMENTO','DATA_VENCIMENTO')\n",
    "base_pagamentos_dev['TARGET'] = create_flag(base_pagamentos_dev['DIAS_ATRASO']>=5)"
   ]
  },
  {
   "attachments": {},
   "cell_type": "markdown",
   "metadata": {},
   "source": [
    "### Cruzamento das Bases"
   ]
  },
  {
   "cell_type": "code",
   "execution_count": 16,
   "metadata": {},
   "outputs": [],
   "source": [
    "base_final_dev = pd.merge(base_cadastral,base_pagamentos_dev,how='inner',on=['ID_CLIENTE'])"
   ]
  },
  {
   "cell_type": "code",
   "execution_count": 17,
   "metadata": {},
   "outputs": [],
   "source": [
    "base_final_dev = base_final_dev.merge(base_info,how='inner',on=['ID_CLIENTE','SAFRA_REF'])"
   ]
  },
  {
   "cell_type": "code",
   "execution_count": 41,
   "metadata": {},
   "outputs": [],
   "source": [
    "base_final_dev.to_parquet(path_data_final)"
   ]
  }
 ],
 "metadata": {
  "kernelspec": {
   "display_name": "Python 3",
   "language": "python",
   "name": "python3"
  },
  "language_info": {
   "codemirror_mode": {
    "name": "ipython",
    "version": 3
   },
   "file_extension": ".py",
   "mimetype": "text/x-python",
   "name": "python",
   "nbconvert_exporter": "python",
   "pygments_lexer": "ipython3",
   "version": "3.8.10"
  },
  "orig_nbformat": 4
 },
 "nbformat": 4,
 "nbformat_minor": 2
}
