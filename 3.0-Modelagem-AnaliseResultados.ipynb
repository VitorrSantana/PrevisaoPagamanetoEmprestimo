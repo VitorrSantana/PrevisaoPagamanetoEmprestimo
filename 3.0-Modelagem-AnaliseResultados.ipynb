{
 "cells": [
  {
   "cell_type": "code",
   "execution_count": 1,
   "metadata": {},
   "outputs": [],
   "source": [
    "import pandas as pd\n",
    "import matplotlib.pyplot as plt\n",
    "from utils import treinar_modelo_tree,plot_matrix_confusao,cross_validation,metricas_modelos,plot_feature_importance\n",
    "from sklearn.model_selection import train_test_split\n",
    "from sklearn.ensemble import  RandomForestClassifier,ExtraTreesClassifier,BaggingClassifier,GradientBoostingClassifier\n",
    "from xgboost import XGBClassifier"
   ]
  },
  {
   "cell_type": "code",
   "execution_count": 2,
   "metadata": {},
   "outputs": [],
   "source": [
    "path_data_final = 'data/processing/mergin_data_final.parquet'\n",
    "base_final_dev = pd.read_parquet(path_data_final)"
   ]
  },
  {
   "cell_type": "code",
   "execution_count": 3,
   "metadata": {},
   "outputs": [],
   "source": [
    "col_treino = ['VALOR_A_PAGAR',\n",
    "              'TAXA',\n",
    "              'QTD_DIAS_EMISSAO_VENCIMENTO',\n",
    "              'RENDA_MES_ANTERIOR',\n",
    "              'NO_FUNCIONARIOS',\n",
    "              'DDD',\n",
    "              'FLAG_PF',\n",
    "              'SEGMENTO_INDUSTRIAL',\n",
    "              'DOMINIO_EMAIL',\n",
    "              'PORTE',\n",
    "              'CEP_2_DIG'\n",
    "]\n",
    "num_trees = [15, 20, 30, 40, 50, 100,150,200,300,400,500]"
   ]
  },
  {
   "cell_type": "code",
   "execution_count": 4,
   "metadata": {},
   "outputs": [],
   "source": [
    "X = base_final_dev[col_treino]\n",
    "y = base_final_dev['TARGET']\n",
    "\n",
    "X_train, X_test, y_train, y_test = train_test_split(X, y, test_size = 0.30,random_state=10)"
   ]
  },
  {
   "cell_type": "code",
   "execution_count": 5,
   "metadata": {},
   "outputs": [],
   "source": [
    "parametros = {\n",
    "    'oob_score':True, \n",
    "    'random_state':42, \n",
    "    'warm_start':True,\n",
    "    'bootstrap':True,\n",
    "    'n_jobs':-1\n",
    "}"
   ]
  },
  {
   "cell_type": "code",
   "execution_count": 6,
   "metadata": {},
   "outputs": [],
   "source": [
    "clf_rf = RandomForestClassifier(**parametros)\n",
    "clf_et = ExtraTreesClassifier(**parametros)\n",
    "clf_xgb = XGBClassifier(**parametros,learning_rate=0.7)"
   ]
  },
  {
   "cell_type": "code",
   "execution_count": 7,
   "metadata": {},
   "outputs": [
    {
     "name": "stderr",
     "output_type": "stream",
     "text": [
      "/home/vitor/.local/lib/python3.8/site-packages/sklearn/ensemble/_forest.py:586: UserWarning: Some inputs do not have OOB scores. This probably means too few trees were used to compute any reliable OOB estimates.\n",
      "  warn(\n",
      "/home/vitor/.local/lib/python3.8/site-packages/sklearn/ensemble/_forest.py:586: UserWarning: Some inputs do not have OOB scores. This probably means too few trees were used to compute any reliable OOB estimates.\n",
      "  warn(\n",
      "/home/vitor/.local/lib/python3.8/site-packages/sklearn/ensemble/_forest.py:586: UserWarning: Some inputs do not have OOB scores. This probably means too few trees were used to compute any reliable OOB estimates.\n",
      "  warn(\n",
      "/home/vitor/.local/lib/python3.8/site-packages/sklearn/ensemble/_forest.py:586: UserWarning: Some inputs do not have OOB scores. This probably means too few trees were used to compute any reliable OOB estimates.\n",
      "  warn(\n"
     ]
    },
    {
     "name": "stdout",
     "output_type": "stream",
     "text": [
      "[09:33:22] WARNING: ../src/learner.cc:767: \n",
      "Parameters: { \"bootstrap\", \"oob_score\", \"warm_start\" } are not used.\n",
      "\n",
      "[09:33:23] WARNING: ../src/learner.cc:767: \n",
      "Parameters: { \"bootstrap\", \"oob_score\", \"warm_start\" } are not used.\n",
      "\n",
      "[09:33:23] WARNING: ../src/learner.cc:767: \n",
      "Parameters: { \"bootstrap\", \"oob_score\", \"warm_start\" } are not used.\n",
      "\n",
      "[09:33:24] WARNING: ../src/learner.cc:767: \n",
      "Parameters: { \"bootstrap\", \"oob_score\", \"warm_start\" } are not used.\n",
      "\n",
      "[09:33:25] WARNING: ../src/learner.cc:767: \n",
      "Parameters: { \"bootstrap\", \"oob_score\", \"warm_start\" } are not used.\n",
      "\n",
      "[09:33:26] WARNING: ../src/learner.cc:767: \n",
      "Parameters: { \"bootstrap\", \"oob_score\", \"warm_start\" } are not used.\n",
      "\n",
      "[09:33:30] WARNING: ../src/learner.cc:767: \n",
      "Parameters: { \"bootstrap\", \"oob_score\", \"warm_start\" } are not used.\n",
      "\n",
      "[09:33:35] WARNING: ../src/learner.cc:767: \n",
      "Parameters: { \"bootstrap\", \"oob_score\", \"warm_start\" } are not used.\n",
      "\n",
      "[09:33:44] WARNING: ../src/learner.cc:767: \n",
      "Parameters: { \"bootstrap\", \"oob_score\", \"warm_start\" } are not used.\n",
      "\n",
      "[09:33:54] WARNING: ../src/learner.cc:767: \n",
      "Parameters: { \"bootstrap\", \"oob_score\", \"warm_start\" } are not used.\n",
      "\n",
      "[09:34:05] WARNING: ../src/learner.cc:767: \n",
      "Parameters: { \"bootstrap\", \"oob_score\", \"warm_start\" } are not used.\n",
      "\n"
     ]
    }
   ],
   "source": [
    "metricas_rf,y_pred_rf   = treinar_modelo_tree(clf_rf,X_train,y_train,X_test,y_test,num_trees)\n",
    "metricas_et,y_pred_et   = treinar_modelo_tree(clf_et,X_train,y_train,X_test,y_test,num_trees)\n",
    "metricas_xgb,y_pred_xgb = treinar_modelo_tree(clf_xgb,X_train,y_train,X_test,y_test,num_trees)"
   ]
  },
  {
   "cell_type": "code",
   "execution_count": 8,
   "metadata": {},
   "outputs": [
    {
     "data": {
      "text/html": [
       "<div>\n",
       "<style scoped>\n",
       "    .dataframe tbody tr th:only-of-type {\n",
       "        vertical-align: middle;\n",
       "    }\n",
       "\n",
       "    .dataframe tbody tr th {\n",
       "        vertical-align: top;\n",
       "    }\n",
       "\n",
       "    .dataframe thead th {\n",
       "        text-align: right;\n",
       "    }\n",
       "</style>\n",
       "<table border=\"1\" class=\"dataframe\">\n",
       "  <thead>\n",
       "    <tr style=\"text-align: right;\">\n",
       "      <th></th>\n",
       "      <th>n_trees</th>\n",
       "      <th>oob</th>\n",
       "      <th>acuracia_train</th>\n",
       "      <th>acuracia_test</th>\n",
       "    </tr>\n",
       "  </thead>\n",
       "  <tbody>\n",
       "    <tr>\n",
       "      <th>0</th>\n",
       "      <td>15.0</td>\n",
       "      <td>NaN</td>\n",
       "      <td>0.960142</td>\n",
       "      <td>0.950916</td>\n",
       "    </tr>\n",
       "    <tr>\n",
       "      <th>1</th>\n",
       "      <td>20.0</td>\n",
       "      <td>NaN</td>\n",
       "      <td>0.963759</td>\n",
       "      <td>0.951778</td>\n",
       "    </tr>\n",
       "    <tr>\n",
       "      <th>2</th>\n",
       "      <td>30.0</td>\n",
       "      <td>NaN</td>\n",
       "      <td>0.968289</td>\n",
       "      <td>0.954092</td>\n",
       "    </tr>\n",
       "    <tr>\n",
       "      <th>3</th>\n",
       "      <td>40.0</td>\n",
       "      <td>NaN</td>\n",
       "      <td>0.973091</td>\n",
       "      <td>0.954954</td>\n",
       "    </tr>\n",
       "    <tr>\n",
       "      <th>4</th>\n",
       "      <td>50.0</td>\n",
       "      <td>NaN</td>\n",
       "      <td>0.976494</td>\n",
       "      <td>0.955861</td>\n",
       "    </tr>\n",
       "    <tr>\n",
       "      <th>5</th>\n",
       "      <td>100.0</td>\n",
       "      <td>NaN</td>\n",
       "      <td>0.986507</td>\n",
       "      <td>0.956859</td>\n",
       "    </tr>\n",
       "    <tr>\n",
       "      <th>6</th>\n",
       "      <td>150.0</td>\n",
       "      <td>NaN</td>\n",
       "      <td>0.991756</td>\n",
       "      <td>0.957358</td>\n",
       "    </tr>\n",
       "    <tr>\n",
       "      <th>7</th>\n",
       "      <td>200.0</td>\n",
       "      <td>NaN</td>\n",
       "      <td>0.995703</td>\n",
       "      <td>0.957766</td>\n",
       "    </tr>\n",
       "    <tr>\n",
       "      <th>8</th>\n",
       "      <td>300.0</td>\n",
       "      <td>NaN</td>\n",
       "      <td>0.998561</td>\n",
       "      <td>0.957449</td>\n",
       "    </tr>\n",
       "    <tr>\n",
       "      <th>9</th>\n",
       "      <td>400.0</td>\n",
       "      <td>NaN</td>\n",
       "      <td>0.998892</td>\n",
       "      <td>0.958356</td>\n",
       "    </tr>\n",
       "    <tr>\n",
       "      <th>10</th>\n",
       "      <td>500.0</td>\n",
       "      <td>NaN</td>\n",
       "      <td>0.998989</td>\n",
       "      <td>0.958583</td>\n",
       "    </tr>\n",
       "  </tbody>\n",
       "</table>\n",
       "</div>"
      ],
      "text/plain": [
       "    n_trees  oob  acuracia_train  acuracia_test\n",
       "0      15.0  NaN        0.960142       0.950916\n",
       "1      20.0  NaN        0.963759       0.951778\n",
       "2      30.0  NaN        0.968289       0.954092\n",
       "3      40.0  NaN        0.973091       0.954954\n",
       "4      50.0  NaN        0.976494       0.955861\n",
       "5     100.0  NaN        0.986507       0.956859\n",
       "6     150.0  NaN        0.991756       0.957358\n",
       "7     200.0  NaN        0.995703       0.957766\n",
       "8     300.0  NaN        0.998561       0.957449\n",
       "9     400.0  NaN        0.998892       0.958356\n",
       "10    500.0  NaN        0.998989       0.958583"
      ]
     },
     "execution_count": 8,
     "metadata": {},
     "output_type": "execute_result"
    }
   ],
   "source": [
    "metricas_xgb"
   ]
  },
  {
   "cell_type": "code",
   "execution_count": 9,
   "metadata": {},
   "outputs": [
    {
     "data": {
      "text/html": [
       "<div>\n",
       "<style scoped>\n",
       "    .dataframe tbody tr th:only-of-type {\n",
       "        vertical-align: middle;\n",
       "    }\n",
       "\n",
       "    .dataframe tbody tr th {\n",
       "        vertical-align: top;\n",
       "    }\n",
       "\n",
       "    .dataframe thead th {\n",
       "        text-align: right;\n",
       "    }\n",
       "</style>\n",
       "<table border=\"1\" class=\"dataframe\">\n",
       "  <thead>\n",
       "    <tr style=\"text-align: right;\">\n",
       "      <th></th>\n",
       "      <th>n_trees</th>\n",
       "      <th>oob</th>\n",
       "      <th>acuracia_train</th>\n",
       "      <th>acuracia_test</th>\n",
       "    </tr>\n",
       "  </thead>\n",
       "  <tbody>\n",
       "    <tr>\n",
       "      <th>0</th>\n",
       "      <td>15.0</td>\n",
       "      <td>0.046410</td>\n",
       "      <td>0.997609</td>\n",
       "      <td>0.959762</td>\n",
       "    </tr>\n",
       "    <tr>\n",
       "      <th>1</th>\n",
       "      <td>20.0</td>\n",
       "      <td>0.044932</td>\n",
       "      <td>0.997764</td>\n",
       "      <td>0.958583</td>\n",
       "    </tr>\n",
       "    <tr>\n",
       "      <th>2</th>\n",
       "      <td>30.0</td>\n",
       "      <td>0.043902</td>\n",
       "      <td>0.998464</td>\n",
       "      <td>0.960034</td>\n",
       "    </tr>\n",
       "    <tr>\n",
       "      <th>3</th>\n",
       "      <td>40.0</td>\n",
       "      <td>0.042930</td>\n",
       "      <td>0.998756</td>\n",
       "      <td>0.960579</td>\n",
       "    </tr>\n",
       "    <tr>\n",
       "      <th>4</th>\n",
       "      <td>50.0</td>\n",
       "      <td>0.042269</td>\n",
       "      <td>0.998814</td>\n",
       "      <td>0.960216</td>\n",
       "    </tr>\n",
       "    <tr>\n",
       "      <th>5</th>\n",
       "      <td>100.0</td>\n",
       "      <td>0.040985</td>\n",
       "      <td>0.998970</td>\n",
       "      <td>0.960125</td>\n",
       "    </tr>\n",
       "    <tr>\n",
       "      <th>6</th>\n",
       "      <td>150.0</td>\n",
       "      <td>0.041121</td>\n",
       "      <td>0.998989</td>\n",
       "      <td>0.960670</td>\n",
       "    </tr>\n",
       "    <tr>\n",
       "      <th>7</th>\n",
       "      <td>200.0</td>\n",
       "      <td>0.040713</td>\n",
       "      <td>0.998989</td>\n",
       "      <td>0.960624</td>\n",
       "    </tr>\n",
       "    <tr>\n",
       "      <th>8</th>\n",
       "      <td>300.0</td>\n",
       "      <td>0.040771</td>\n",
       "      <td>0.998989</td>\n",
       "      <td>0.960579</td>\n",
       "    </tr>\n",
       "    <tr>\n",
       "      <th>9</th>\n",
       "      <td>400.0</td>\n",
       "      <td>0.040363</td>\n",
       "      <td>0.998989</td>\n",
       "      <td>0.960760</td>\n",
       "    </tr>\n",
       "    <tr>\n",
       "      <th>10</th>\n",
       "      <td>500.0</td>\n",
       "      <td>0.040558</td>\n",
       "      <td>0.998989</td>\n",
       "      <td>0.959944</td>\n",
       "    </tr>\n",
       "  </tbody>\n",
       "</table>\n",
       "</div>"
      ],
      "text/plain": [
       "    n_trees       oob  acuracia_train  acuracia_test\n",
       "0      15.0  0.046410        0.997609       0.959762\n",
       "1      20.0  0.044932        0.997764       0.958583\n",
       "2      30.0  0.043902        0.998464       0.960034\n",
       "3      40.0  0.042930        0.998756       0.960579\n",
       "4      50.0  0.042269        0.998814       0.960216\n",
       "5     100.0  0.040985        0.998970       0.960125\n",
       "6     150.0  0.041121        0.998989       0.960670\n",
       "7     200.0  0.040713        0.998989       0.960624\n",
       "8     300.0  0.040771        0.998989       0.960579\n",
       "9     400.0  0.040363        0.998989       0.960760\n",
       "10    500.0  0.040558        0.998989       0.959944"
      ]
     },
     "execution_count": 9,
     "metadata": {},
     "output_type": "execute_result"
    }
   ],
   "source": [
    "metricas_rf"
   ]
  },
  {
   "cell_type": "code",
   "execution_count": 10,
   "metadata": {},
   "outputs": [
    {
     "name": "stdout",
     "output_type": "stream",
     "text": [
      "[09:34:30] WARNING: ../src/learner.cc:767: \n",
      "Parameters: { \"bootstrap\", \"oob_score\", \"warm_start\" } are not used.\n",
      "\n"
     ]
    }
   ],
   "source": [
    "clf_rf = RandomForestClassifier(**parametros)\n",
    "clf_et = ExtraTreesClassifier(**parametros)\n",
    "clf_xgb = XGBClassifier(**parametros,learning_rate=0.7)\n",
    "\n",
    "metricas_rf,y_pred_rf   = treinar_modelo_tree(clf_rf,X_train,y_train,X_test,y_test,[200])\n",
    "metricas_et,y_pred_et   = treinar_modelo_tree(clf_et,X_train,y_train,X_test,y_test,[150])\n",
    "metricas_xgb,y_pred_xgb = treinar_modelo_tree(clf_xgb,X_train,y_train,X_test,y_test,[400])"
   ]
  },
  {
   "cell_type": "code",
   "execution_count": 11,
   "metadata": {},
   "outputs": [
    {
     "data": {
      "image/png": "[encoded data removed]",
      "text/plain": [
       "<Figure size 432x288 with 2 Axes>"
      ]
     },
     "metadata": {
      "needs_background": "light"
     },
     "output_type": "display_data"
    }
   ],
   "source": [
    "plot_matrix_confusao(y_test,y_pred_rf)"
   ]
  },
  {
   "cell_type": "code",
   "execution_count": 12,
   "metadata": {},
   "outputs": [
    {
     "name": "stdout",
     "output_type": "stream",
     "text": [
      "              precision    recall  f1-score   support\n",
      "\n",
      "           0       0.97      0.99      0.98     20534\n",
      "           1       0.78      0.60      0.67      1510\n",
      "\n",
      "    accuracy                           0.96     22044\n",
      "   macro avg       0.87      0.79      0.83     22044\n",
      "weighted avg       0.96      0.96      0.96     22044\n",
      "\n"
     ]
    },
    {
     "data": {
      "text/html": [
       "<div>\n",
       "<style scoped>\n",
       "    .dataframe tbody tr th:only-of-type {\n",
       "        vertical-align: middle;\n",
       "    }\n",
       "\n",
       "    .dataframe tbody tr th {\n",
       "        vertical-align: top;\n",
       "    }\n",
       "\n",
       "    .dataframe thead th {\n",
       "        text-align: right;\n",
       "    }\n",
       "</style>\n",
       "<table border=\"1\" class=\"dataframe\">\n",
       "  <thead>\n",
       "    <tr style=\"text-align: right;\">\n",
       "      <th></th>\n",
       "      <th>accuracy</th>\n",
       "      <th>precision</th>\n",
       "      <th>recall</th>\n",
       "      <th>f1</th>\n",
       "      <th>auc</th>\n",
       "    </tr>\n",
       "  </thead>\n",
       "  <tbody>\n",
       "    <tr>\n",
       "      <th>0</th>\n",
       "      <td>0.960624</td>\n",
       "      <td>0.776724</td>\n",
       "      <td>0.596689</td>\n",
       "      <td>0.674906</td>\n",
       "      <td>0.792038</td>\n",
       "    </tr>\n",
       "  </tbody>\n",
       "</table>\n",
       "</div>"
      ],
      "text/plain": [
       "   accuracy  precision    recall        f1       auc\n",
       "0  0.960624   0.776724  0.596689  0.674906  0.792038"
      ]
     },
     "execution_count": 12,
     "metadata": {},
     "output_type": "execute_result"
    }
   ],
   "source": [
    "score_rf,cr_rf  = metricas_modelos(y_test,y_pred_rf)\n",
    "print(cr_rf)\n",
    "score_rf"
   ]
  },
  {
   "cell_type": "code",
   "execution_count": 31,
   "metadata": {},
   "outputs": [],
   "source": [
    "import numpy as np"
   ]
  },
  {
   "cell_type": "code",
   "execution_count": 13,
   "metadata": {},
   "outputs": [],
   "source": [
    "scores_rf,predict_rf,info_valid_rf = cross_validation(clf_rf,X_train,y_train,30)"
   ]
  },
  {
   "cell_type": "code",
   "execution_count": 14,
   "metadata": {},
   "outputs": [
    {
     "data": {
      "text/plain": [
       "0.9595003135443207"
      ]
     },
     "execution_count": 14,
     "metadata": {},
     "output_type": "execute_result"
    }
   ],
   "source": [
    "scores_rf.mean()"
   ]
  },
  {
   "cell_type": "code",
   "execution_count": 41,
   "metadata": {},
   "outputs": [
    {
     "data": {
      "image/png": "[encoded data removed]",
      "text/plain": [
       "<Figure size 504x360 with 1 Axes>"
      ]
     },
     "metadata": {
      "needs_background": "light"
     },
     "output_type": "display_data"
    }
   ],
   "source": [
    "plot_feature_importance(clf_rf.feature_importances_,X_test.columns,'Random Forest ')"
   ]
  },
  {
   "cell_type": "code",
   "execution_count": 15,
   "metadata": {},
   "outputs": [
    {
     "data": {
      "image/png": "[encoded data removed]",
      "text/plain": [
       "<Figure size 432x288 with 2 Axes>"
      ]
     },
     "metadata": {
      "needs_background": "light"
     },
     "output_type": "display_data"
    }
   ],
   "source": [
    "plot_matrix_confusao(y_test,y_pred_et)"
   ]
  },
  {
   "cell_type": "code",
   "execution_count": 16,
   "metadata": {},
   "outputs": [
    {
     "name": "stdout",
     "output_type": "stream",
     "text": [
      "              precision    recall  f1-score   support\n",
      "\n",
      "           0       0.97      0.99      0.98     20534\n",
      "           1       0.79      0.57      0.66      1510\n",
      "\n",
      "    accuracy                           0.96     22044\n",
      "   macro avg       0.88      0.78      0.82     22044\n",
      "weighted avg       0.96      0.96      0.96     22044\n",
      "\n"
     ]
    },
    {
     "data": {
      "text/html": [
       "<div>\n",
       "<style scoped>\n",
       "    .dataframe tbody tr th:only-of-type {\n",
       "        vertical-align: middle;\n",
       "    }\n",
       "\n",
       "    .dataframe tbody tr th {\n",
       "        vertical-align: top;\n",
       "    }\n",
       "\n",
       "    .dataframe thead th {\n",
       "        text-align: right;\n",
       "    }\n",
       "</style>\n",
       "<table border=\"1\" class=\"dataframe\">\n",
       "  <thead>\n",
       "    <tr style=\"text-align: right;\">\n",
       "      <th></th>\n",
       "      <th>accuracy</th>\n",
       "      <th>precision</th>\n",
       "      <th>recall</th>\n",
       "      <th>f1</th>\n",
       "      <th>auc</th>\n",
       "    </tr>\n",
       "  </thead>\n",
       "  <tbody>\n",
       "    <tr>\n",
       "      <th>0</th>\n",
       "      <td>0.960125</td>\n",
       "      <td>0.791859</td>\n",
       "      <td>0.566887</td>\n",
       "      <td>0.660749</td>\n",
       "      <td>0.777965</td>\n",
       "    </tr>\n",
       "  </tbody>\n",
       "</table>\n",
       "</div>"
      ],
      "text/plain": [
       "   accuracy  precision    recall        f1       auc\n",
       "0  0.960125   0.791859  0.566887  0.660749  0.777965"
      ]
     },
     "execution_count": 16,
     "metadata": {},
     "output_type": "execute_result"
    }
   ],
   "source": [
    "score_et,cr_et  = metricas_modelos(y_test,y_pred_et)\n",
    "print(cr_et)\n",
    "score_et"
   ]
  },
  {
   "cell_type": "code",
   "execution_count": 17,
   "metadata": {},
   "outputs": [],
   "source": [
    "scores_et,predict_et,info_valid_et = cross_validation(clf_et,X,y,30)"
   ]
  },
  {
   "cell_type": "code",
   "execution_count": 40,
   "metadata": {},
   "outputs": [
    {
     "data": {
      "image/png": "[encoded data removed]",
      "text/plain": [
       "<Figure size 504x360 with 1 Axes>"
      ]
     },
     "metadata": {
      "needs_background": "light"
     },
     "output_type": "display_data"
    }
   ],
   "source": [
    "plot_feature_importance(clf_et.feature_importances_,X_test.columns,'Extra Tree ')"
   ]
  },
  {
   "cell_type": "code",
   "execution_count": 18,
   "metadata": {},
   "outputs": [
    {
     "data": {
      "image/png": "[encoded data removed]",
      "text/plain": [
       "<Figure size 432x288 with 2 Axes>"
      ]
     },
     "metadata": {
      "needs_background": "light"
     },
     "output_type": "display_data"
    }
   ],
   "source": [
    "plot_matrix_confusao(y_test,y_pred_xgb)"
   ]
  },
  {
   "cell_type": "code",
   "execution_count": 19,
   "metadata": {},
   "outputs": [
    {
     "name": "stdout",
     "output_type": "stream",
     "text": [
      "              precision    recall  f1-score   support\n",
      "\n",
      "           0       0.97      0.98      0.98     20534\n",
      "           1       0.74      0.60      0.66      1510\n",
      "\n",
      "    accuracy                           0.96     22044\n",
      "   macro avg       0.86      0.79      0.82     22044\n",
      "weighted avg       0.96      0.96      0.96     22044\n",
      "\n"
     ]
    },
    {
     "data": {
      "text/html": [
       "<div>\n",
       "<style scoped>\n",
       "    .dataframe tbody tr th:only-of-type {\n",
       "        vertical-align: middle;\n",
       "    }\n",
       "\n",
       "    .dataframe tbody tr th {\n",
       "        vertical-align: top;\n",
       "    }\n",
       "\n",
       "    .dataframe thead th {\n",
       "        text-align: right;\n",
       "    }\n",
       "</style>\n",
       "<table border=\"1\" class=\"dataframe\">\n",
       "  <thead>\n",
       "    <tr style=\"text-align: right;\">\n",
       "      <th></th>\n",
       "      <th>accuracy</th>\n",
       "      <th>precision</th>\n",
       "      <th>recall</th>\n",
       "      <th>f1</th>\n",
       "      <th>auc</th>\n",
       "    </tr>\n",
       "  </thead>\n",
       "  <tbody>\n",
       "    <tr>\n",
       "      <th>0</th>\n",
       "      <td>0.958356</td>\n",
       "      <td>0.74183</td>\n",
       "      <td>0.601325</td>\n",
       "      <td>0.664228</td>\n",
       "      <td>0.792968</td>\n",
       "    </tr>\n",
       "  </tbody>\n",
       "</table>\n",
       "</div>"
      ],
      "text/plain": [
       "   accuracy  precision    recall        f1       auc\n",
       "0  0.958356    0.74183  0.601325  0.664228  0.792968"
      ]
     },
     "execution_count": 19,
     "metadata": {},
     "output_type": "execute_result"
    }
   ],
   "source": [
    "score_xgb,cr_xgb  = metricas_modelos(y_test,y_pred_xgb)\n",
    "print(cr_xgb)\n",
    "score_xgb"
   ]
  },
  {
   "cell_type": "code",
   "execution_count": 20,
   "metadata": {},
   "outputs": [
    {
     "name": "stdout",
     "output_type": "stream",
     "text": [
      "[09:54:05] WARNING: ../src/learner.cc:767: \n",
      "Parameters: { \"bootstrap\", \"oob_score\", \"warm_start\" } are not used.\n",
      "\n",
      "[09:54:22] WARNING: ../src/learner.cc:767: \n",
      "Parameters: { \"bootstrap\", \"oob_score\", \"warm_start\" } are not used.\n",
      "\n",
      "[09:54:36] WARNING: ../src/learner.cc:767: \n",
      "Parameters: { \"bootstrap\", \"oob_score\", \"warm_start\" } are not used.\n",
      "\n",
      "[09:54:51] WARNING: ../src/learner.cc:767: \n",
      "Parameters: { \"bootstrap\", \"oob_score\", \"warm_start\" } are not used.\n",
      "\n",
      "[09:55:05] WARNING: ../src/learner.cc:767: \n",
      "Parameters: { \"bootstrap\", \"oob_score\", \"warm_start\" } are not used.\n",
      "\n",
      "[09:55:20] WARNING: ../src/learner.cc:767: \n",
      "Parameters: { \"bootstrap\", \"oob_score\", \"warm_start\" } are not used.\n",
      "\n",
      "[09:55:35] WARNING: ../src/learner.cc:767: \n",
      "Parameters: { \"bootstrap\", \"oob_score\", \"warm_start\" } are not used.\n",
      "\n",
      "[09:55:50] WARNING: ../src/learner.cc:767: \n",
      "Parameters: { \"bootstrap\", \"oob_score\", \"warm_start\" } are not used.\n",
      "\n",
      "[09:56:05] WARNING: ../src/learner.cc:767: \n",
      "Parameters: { \"bootstrap\", \"oob_score\", \"warm_start\" } are not used.\n",
      "\n",
      "[09:56:26] WARNING: ../src/learner.cc:767: \n",
      "Parameters: { \"bootstrap\", \"oob_score\", \"warm_start\" } are not used.\n",
      "\n",
      "[09:56:45] WARNING: ../src/learner.cc:767: \n",
      "Parameters: { \"bootstrap\", \"oob_score\", \"warm_start\" } are not used.\n",
      "\n",
      "[09:57:05] WARNING: ../src/learner.cc:767: \n",
      "Parameters: { \"bootstrap\", \"oob_score\", \"warm_start\" } are not used.\n",
      "\n",
      "[09:57:18] WARNING: ../src/learner.cc:767: \n",
      "Parameters: { \"bootstrap\", \"oob_score\", \"warm_start\" } are not used.\n",
      "\n",
      "[09:57:31] WARNING: ../src/learner.cc:767: \n",
      "Parameters: { \"bootstrap\", \"oob_score\", \"warm_start\" } are not used.\n",
      "\n",
      "[09:57:44] WARNING: ../src/learner.cc:767: \n",
      "Parameters: { \"bootstrap\", \"oob_score\", \"warm_start\" } are not used.\n",
      "\n",
      "[09:58:00] WARNING: ../src/learner.cc:767: \n",
      "Parameters: { \"bootstrap\", \"oob_score\", \"warm_start\" } are not used.\n",
      "\n",
      "[09:58:15] WARNING: ../src/learner.cc:767: \n",
      "Parameters: { \"bootstrap\", \"oob_score\", \"warm_start\" } are not used.\n",
      "\n",
      "[09:58:35] WARNING: ../src/learner.cc:767: \n",
      "Parameters: { \"bootstrap\", \"oob_score\", \"warm_start\" } are not used.\n",
      "\n",
      "[09:58:52] WARNING: ../src/learner.cc:767: \n",
      "Parameters: { \"bootstrap\", \"oob_score\", \"warm_start\" } are not used.\n",
      "\n",
      "[09:59:09] WARNING: ../src/learner.cc:767: \n",
      "Parameters: { \"bootstrap\", \"oob_score\", \"warm_start\" } are not used.\n",
      "\n",
      "[09:59:28] WARNING: ../src/learner.cc:767: \n",
      "Parameters: { \"bootstrap\", \"oob_score\", \"warm_start\" } are not used.\n",
      "\n",
      "[09:59:47] WARNING: ../src/learner.cc:767: \n",
      "Parameters: { \"bootstrap\", \"oob_score\", \"warm_start\" } are not used.\n",
      "\n",
      "[10:00:04] WARNING: ../src/learner.cc:767: \n",
      "Parameters: { \"bootstrap\", \"oob_score\", \"warm_start\" } are not used.\n",
      "\n",
      "[10:00:23] WARNING: ../src/learner.cc:767: \n",
      "Parameters: { \"bootstrap\", \"oob_score\", \"warm_start\" } are not used.\n",
      "\n",
      "[10:00:40] WARNING: ../src/learner.cc:767: \n",
      "Parameters: { \"bootstrap\", \"oob_score\", \"warm_start\" } are not used.\n",
      "\n",
      "[10:00:58] WARNING: ../src/learner.cc:767: \n",
      "Parameters: { \"bootstrap\", \"oob_score\", \"warm_start\" } are not used.\n",
      "\n",
      "[10:01:14] WARNING: ../src/learner.cc:767: \n",
      "Parameters: { \"bootstrap\", \"oob_score\", \"warm_start\" } are not used.\n",
      "\n",
      "[10:01:34] WARNING: ../src/learner.cc:767: \n",
      "Parameters: { \"bootstrap\", \"oob_score\", \"warm_start\" } are not used.\n",
      "\n",
      "[10:01:50] WARNING: ../src/learner.cc:767: \n",
      "Parameters: { \"bootstrap\", \"oob_score\", \"warm_start\" } are not used.\n",
      "\n",
      "[10:02:07] WARNING: ../src/learner.cc:767: \n",
      "Parameters: { \"bootstrap\", \"oob_score\", \"warm_start\" } are not used.\n",
      "\n",
      "[10:02:23] WARNING: ../src/learner.cc:767: \n",
      "Parameters: { \"bootstrap\", \"oob_score\", \"warm_start\" } are not used.\n",
      "\n",
      "[10:02:41] WARNING: ../src/learner.cc:767: \n",
      "Parameters: { \"bootstrap\", \"oob_score\", \"warm_start\" } are not used.\n",
      "\n",
      "[10:03:01] WARNING: ../src/learner.cc:767: \n",
      "Parameters: { \"bootstrap\", \"oob_score\", \"warm_start\" } are not used.\n",
      "\n",
      "[10:03:23] WARNING: ../src/learner.cc:767: \n",
      "Parameters: { \"bootstrap\", \"oob_score\", \"warm_start\" } are not used.\n",
      "\n",
      "[10:03:38] WARNING: ../src/learner.cc:767: \n",
      "Parameters: { \"bootstrap\", \"oob_score\", \"warm_start\" } are not used.\n",
      "\n",
      "[10:03:54] WARNING: ../src/learner.cc:767: \n",
      "Parameters: { \"bootstrap\", \"oob_score\", \"warm_start\" } are not used.\n",
      "\n",
      "[10:04:09] WARNING: ../src/learner.cc:767: \n",
      "Parameters: { \"bootstrap\", \"oob_score\", \"warm_start\" } are not used.\n",
      "\n",
      "[10:04:42] WARNING: ../src/learner.cc:767: \n",
      "Parameters: { \"bootstrap\", \"oob_score\", \"warm_start\" } are not used.\n",
      "\n",
      "[10:04:58] WARNING: ../src/learner.cc:767: \n",
      "Parameters: { \"bootstrap\", \"oob_score\", \"warm_start\" } are not used.\n",
      "\n",
      "[10:05:13] WARNING: ../src/learner.cc:767: \n",
      "Parameters: { \"bootstrap\", \"oob_score\", \"warm_start\" } are not used.\n",
      "\n",
      "[10:05:28] WARNING: ../src/learner.cc:767: \n",
      "Parameters: { \"bootstrap\", \"oob_score\", \"warm_start\" } are not used.\n",
      "\n",
      "[10:05:44] WARNING: ../src/learner.cc:767: \n",
      "Parameters: { \"bootstrap\", \"oob_score\", \"warm_start\" } are not used.\n",
      "\n",
      "[10:06:01] WARNING: ../src/learner.cc:767: \n",
      "Parameters: { \"bootstrap\", \"oob_score\", \"warm_start\" } are not used.\n",
      "\n",
      "[10:06:18] WARNING: ../src/learner.cc:767: \n",
      "Parameters: { \"bootstrap\", \"oob_score\", \"warm_start\" } are not used.\n",
      "\n",
      "[10:06:33] WARNING: ../src/learner.cc:767: \n",
      "Parameters: { \"bootstrap\", \"oob_score\", \"warm_start\" } are not used.\n",
      "\n",
      "[10:06:48] WARNING: ../src/learner.cc:767: \n",
      "Parameters: { \"bootstrap\", \"oob_score\", \"warm_start\" } are not used.\n",
      "\n",
      "[10:07:05] WARNING: ../src/learner.cc:767: \n",
      "Parameters: { \"bootstrap\", \"oob_score\", \"warm_start\" } are not used.\n",
      "\n",
      "[10:07:21] WARNING: ../src/learner.cc:767: \n",
      "Parameters: { \"bootstrap\", \"oob_score\", \"warm_start\" } are not used.\n",
      "\n",
      "[10:07:40] WARNING: ../src/learner.cc:767: \n",
      "Parameters: { \"bootstrap\", \"oob_score\", \"warm_start\" } are not used.\n",
      "\n",
      "[10:07:55] WARNING: ../src/learner.cc:767: \n",
      "Parameters: { \"bootstrap\", \"oob_score\", \"warm_start\" } are not used.\n",
      "\n",
      "[10:08:11] WARNING: ../src/learner.cc:767: \n",
      "Parameters: { \"bootstrap\", \"oob_score\", \"warm_start\" } are not used.\n",
      "\n",
      "[10:08:33] WARNING: ../src/learner.cc:767: \n",
      "Parameters: { \"bootstrap\", \"oob_score\", \"warm_start\" } are not used.\n",
      "\n",
      "[10:08:56] WARNING: ../src/learner.cc:767: \n",
      "Parameters: { \"bootstrap\", \"oob_score\", \"warm_start\" } are not used.\n",
      "\n",
      "[10:09:13] WARNING: ../src/learner.cc:767: \n",
      "Parameters: { \"bootstrap\", \"oob_score\", \"warm_start\" } are not used.\n",
      "\n",
      "[10:09:30] WARNING: ../src/learner.cc:767: \n",
      "Parameters: { \"bootstrap\", \"oob_score\", \"warm_start\" } are not used.\n",
      "\n",
      "[10:09:47] WARNING: ../src/learner.cc:767: \n",
      "Parameters: { \"bootstrap\", \"oob_score\", \"warm_start\" } are not used.\n",
      "\n",
      "[10:10:03] WARNING: ../src/learner.cc:767: \n",
      "Parameters: { \"bootstrap\", \"oob_score\", \"warm_start\" } are not used.\n",
      "\n",
      "[10:10:24] WARNING: ../src/learner.cc:767: \n",
      "Parameters: { \"bootstrap\", \"oob_score\", \"warm_start\" } are not used.\n",
      "\n",
      "[10:10:40] WARNING: ../src/learner.cc:767: \n",
      "Parameters: { \"bootstrap\", \"oob_score\", \"warm_start\" } are not used.\n",
      "\n",
      "[10:10:55] WARNING: ../src/learner.cc:767: \n",
      "Parameters: { \"bootstrap\", \"oob_score\", \"warm_start\" } are not used.\n",
      "\n",
      "[10:11:09] WARNING: ../src/learner.cc:767: \n",
      "Parameters: { \"bootstrap\", \"oob_score\", \"warm_start\" } are not used.\n",
      "\n",
      "[10:11:24] WARNING: ../src/learner.cc:767: \n",
      "Parameters: { \"bootstrap\", \"oob_score\", \"warm_start\" } are not used.\n",
      "\n",
      "[10:11:39] WARNING: ../src/learner.cc:767: \n",
      "Parameters: { \"bootstrap\", \"oob_score\", \"warm_start\" } are not used.\n",
      "\n",
      "[10:11:57] WARNING: ../src/learner.cc:767: \n",
      "Parameters: { \"bootstrap\", \"oob_score\", \"warm_start\" } are not used.\n",
      "\n",
      "[10:12:13] WARNING: ../src/learner.cc:767: \n",
      "Parameters: { \"bootstrap\", \"oob_score\", \"warm_start\" } are not used.\n",
      "\n",
      "[10:12:29] WARNING: ../src/learner.cc:767: \n",
      "Parameters: { \"bootstrap\", \"oob_score\", \"warm_start\" } are not used.\n",
      "\n",
      "[10:12:45] WARNING: ../src/learner.cc:767: \n",
      "Parameters: { \"bootstrap\", \"oob_score\", \"warm_start\" } are not used.\n",
      "\n",
      "[10:13:03] WARNING: ../src/learner.cc:767: \n",
      "Parameters: { \"bootstrap\", \"oob_score\", \"warm_start\" } are not used.\n",
      "\n",
      "[10:13:25] WARNING: ../src/learner.cc:767: \n",
      "Parameters: { \"bootstrap\", \"oob_score\", \"warm_start\" } are not used.\n",
      "\n",
      "[10:13:45] WARNING: ../src/learner.cc:767: \n",
      "Parameters: { \"bootstrap\", \"oob_score\", \"warm_start\" } are not used.\n",
      "\n",
      "[10:14:02] WARNING: ../src/learner.cc:767: \n",
      "Parameters: { \"bootstrap\", \"oob_score\", \"warm_start\" } are not used.\n",
      "\n",
      "[10:14:18] WARNING: ../src/learner.cc:767: \n",
      "Parameters: { \"bootstrap\", \"oob_score\", \"warm_start\" } are not used.\n",
      "\n",
      "[10:14:33] WARNING: ../src/learner.cc:767: \n",
      "Parameters: { \"bootstrap\", \"oob_score\", \"warm_start\" } are not used.\n",
      "\n",
      "[10:14:49] WARNING: ../src/learner.cc:767: \n",
      "Parameters: { \"bootstrap\", \"oob_score\", \"warm_start\" } are not used.\n",
      "\n",
      "[10:15:04] WARNING: ../src/learner.cc:767: \n",
      "Parameters: { \"bootstrap\", \"oob_score\", \"warm_start\" } are not used.\n",
      "\n",
      "[10:15:24] WARNING: ../src/learner.cc:767: \n",
      "Parameters: { \"bootstrap\", \"oob_score\", \"warm_start\" } are not used.\n",
      "\n",
      "[10:15:44] WARNING: ../src/learner.cc:767: \n",
      "Parameters: { \"bootstrap\", \"oob_score\", \"warm_start\" } are not used.\n",
      "\n",
      "[10:16:02] WARNING: ../src/learner.cc:767: \n",
      "Parameters: { \"bootstrap\", \"oob_score\", \"warm_start\" } are not used.\n",
      "\n",
      "[10:16:21] WARNING: ../src/learner.cc:767: \n",
      "Parameters: { \"bootstrap\", \"oob_score\", \"warm_start\" } are not used.\n",
      "\n",
      "[10:16:42] WARNING: ../src/learner.cc:767: \n",
      "Parameters: { \"bootstrap\", \"oob_score\", \"warm_start\" } are not used.\n",
      "\n",
      "[10:17:08] WARNING: ../src/learner.cc:767: \n",
      "Parameters: { \"bootstrap\", \"oob_score\", \"warm_start\" } are not used.\n",
      "\n",
      "[10:17:47] WARNING: ../src/learner.cc:767: \n",
      "Parameters: { \"bootstrap\", \"oob_score\", \"warm_start\" } are not used.\n",
      "\n",
      "[10:18:24] WARNING: ../src/learner.cc:767: \n",
      "Parameters: { \"bootstrap\", \"oob_score\", \"warm_start\" } are not used.\n",
      "\n",
      "[10:18:56] WARNING: ../src/learner.cc:767: \n",
      "Parameters: { \"bootstrap\", \"oob_score\", \"warm_start\" } are not used.\n",
      "\n",
      "[10:19:14] WARNING: ../src/learner.cc:767: \n",
      "Parameters: { \"bootstrap\", \"oob_score\", \"warm_start\" } are not used.\n",
      "\n",
      "[10:19:31] WARNING: ../src/learner.cc:767: \n",
      "Parameters: { \"bootstrap\", \"oob_score\", \"warm_start\" } are not used.\n",
      "\n",
      "[10:19:47] WARNING: ../src/learner.cc:767: \n",
      "Parameters: { \"bootstrap\", \"oob_score\", \"warm_start\" } are not used.\n",
      "\n",
      "[10:20:06] WARNING: ../src/learner.cc:767: \n",
      "Parameters: { \"bootstrap\", \"oob_score\", \"warm_start\" } are not used.\n",
      "\n",
      "[10:20:46] WARNING: ../src/learner.cc:767: \n",
      "Parameters: { \"bootstrap\", \"oob_score\", \"warm_start\" } are not used.\n",
      "\n",
      "[10:21:18] WARNING: ../src/learner.cc:767: \n",
      "Parameters: { \"bootstrap\", \"oob_score\", \"warm_start\" } are not used.\n",
      "\n"
     ]
    }
   ],
   "source": [
    "scores_xgb,predict_xgb,info_valid_xgb = cross_validation(clf_xgb,X,y,30)"
   ]
  },
  {
   "cell_type": "code",
   "execution_count": 39,
   "metadata": {},
   "outputs": [
    {
     "data": {
      "image/png": "[encoded data removed]",
      "text/plain": [
       "<Figure size 504x360 with 1 Axes>"
      ]
     },
     "metadata": {
      "needs_background": "light"
     },
     "output_type": "display_data"
    }
   ],
   "source": [
    "plot_feature_importance(clf_xgb.feature_importances_,X_test.columns,'XgBoost ')"
   ]
  }
 ],
 "metadata": {
  "kernelspec": {
   "display_name": "Python 3",
   "language": "python",
   "name": "python3"
  },
  "language_info": {
   "codemirror_mode": {
    "name": "ipython",
    "version": 3
   },
   "file_extension": ".py",
   "mimetype": "text/x-python",
   "name": "python",
   "nbconvert_exporter": "python",
   "pygments_lexer": "ipython3",
   "version": "3.8.10"
  },
  "orig_nbformat": 4
 },
 "nbformat": 4,
 "nbformat_minor": 2
}
