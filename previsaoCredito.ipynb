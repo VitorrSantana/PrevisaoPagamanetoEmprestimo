{
 "cells": [
  {
   "cell_type": "code",
   "execution_count": 1,
   "metadata": {},
   "outputs": [
    {
     "name": "stderr",
     "output_type": "stream",
     "text": [
      "2023-05-23 00:16:46.388996: I tensorflow/core/platform/cpu_feature_guard.cc:193] This TensorFlow binary is optimized with oneAPI Deep Neural Network Library (oneDNN) to use the following CPU instructions in performance-critical operations:  AVX2 FMA\n",
      "To enable them in other operations, rebuild TensorFlow with the appropriate compiler flags.\n",
      "2023-05-23 00:16:46.606294: W tensorflow/compiler/xla/stream_executor/platform/default/dso_loader.cc:64] Could not load dynamic library 'libcudart.so.11.0'; dlerror: libcudart.so.11.0: cannot open shared object file: No such file or directory\n",
      "2023-05-23 00:16:46.606322: I tensorflow/compiler/xla/stream_executor/cuda/cudart_stub.cc:29] Ignore above cudart dlerror if you do not have a GPU set up on your machine.\n",
      "2023-05-23 00:16:47.741027: W tensorflow/compiler/xla/stream_executor/platform/default/dso_loader.cc:64] Could not load dynamic library 'libnvinfer.so.7'; dlerror: libnvinfer.so.7: cannot open shared object file: No such file or directory\n",
      "2023-05-23 00:16:47.741105: W tensorflow/compiler/xla/stream_executor/platform/default/dso_loader.cc:64] Could not load dynamic library 'libnvinfer_plugin.so.7'; dlerror: libnvinfer_plugin.so.7: cannot open shared object file: No such file or directory\n",
      "2023-05-23 00:16:47.741114: W tensorflow/compiler/tf2tensorrt/utils/py_utils.cc:38] TF-TRT Warning: Cannot dlopen some TensorRT libraries. If you would like to use Nvidia GPU with TensorRT, please make sure the missing libraries mentioned above are installed properly.\n"
     ]
    }
   ],
   "source": [
    "# Importação das Bibliotecas que serão utilizadas\n",
    "import pandas as pd\n",
    "import numpy as np\n",
    "import matplotlib.pyplot as plt\n",
    "import shap\n",
    "\n",
    "from sklearn.model_selection import train_test_split\n",
    "from sklearn.ensemble import RandomForestClassifier\n",
    "from sklearn import metrics  "
   ]
  },
  {
   "cell_type": "code",
   "execution_count": 2,
   "metadata": {},
   "outputs": [],
   "source": [
    "# Caminho relativo para os dados\n",
    "path_cadastral     = 'data/base_cadastral.csv'\n",
    "path_info          = 'data/base_info.csv'\n",
    "path_pagament_dev  = 'data/base_pagamentos_desenvolvimento.csv'\n",
    "path_pagament_test = 'data/base_pagamentos_teste.csv'"
   ]
  },
  {
   "attachments": {},
   "cell_type": "markdown",
   "metadata": {},
   "source": [
    "### Base Cadastral"
   ]
  },
  {
   "cell_type": "code",
   "execution_count": 3,
   "metadata": {},
   "outputs": [
    {
     "data": {
      "text/html": [
       "<div>\n",
       "<style scoped>\n",
       "    .dataframe tbody tr th:only-of-type {\n",
       "        vertical-align: middle;\n",
       "    }\n",
       "\n",
       "    .dataframe tbody tr th {\n",
       "        vertical-align: top;\n",
       "    }\n",
       "\n",
       "    .dataframe thead th {\n",
       "        text-align: right;\n",
       "    }\n",
       "</style>\n",
       "<table border=\"1\" class=\"dataframe\">\n",
       "  <thead>\n",
       "    <tr style=\"text-align: right;\">\n",
       "      <th></th>\n",
       "      <th>ID_CLIENTE</th>\n",
       "      <th>DATA_CADASTRO</th>\n",
       "      <th>DDD</th>\n",
       "      <th>FLAG_PF</th>\n",
       "      <th>SEGMENTO_INDUSTRIAL</th>\n",
       "      <th>DOMINIO_EMAIL</th>\n",
       "      <th>PORTE</th>\n",
       "      <th>CEP_2_DIG</th>\n",
       "    </tr>\n",
       "  </thead>\n",
       "  <tbody>\n",
       "    <tr>\n",
       "      <th>0</th>\n",
       "      <td>1661240395903230676</td>\n",
       "      <td>2013-08-22</td>\n",
       "      <td>99</td>\n",
       "      <td>NaN</td>\n",
       "      <td>Serviços</td>\n",
       "      <td>YAHOO</td>\n",
       "      <td>PEQUENO</td>\n",
       "      <td>65</td>\n",
       "    </tr>\n",
       "    <tr>\n",
       "      <th>1</th>\n",
       "      <td>8274986328479596038</td>\n",
       "      <td>2017-01-25</td>\n",
       "      <td>31</td>\n",
       "      <td>NaN</td>\n",
       "      <td>Comércio</td>\n",
       "      <td>YAHOO</td>\n",
       "      <td>MEDIO</td>\n",
       "      <td>77</td>\n",
       "    </tr>\n",
       "    <tr>\n",
       "      <th>2</th>\n",
       "      <td>345447888460137901</td>\n",
       "      <td>2000-08-15</td>\n",
       "      <td>75</td>\n",
       "      <td>NaN</td>\n",
       "      <td>Serviços</td>\n",
       "      <td>HOTMAIL</td>\n",
       "      <td>PEQUENO</td>\n",
       "      <td>48</td>\n",
       "    </tr>\n",
       "    <tr>\n",
       "      <th>3</th>\n",
       "      <td>1003144834589372198</td>\n",
       "      <td>2017-08-06</td>\n",
       "      <td>49</td>\n",
       "      <td>NaN</td>\n",
       "      <td>Serviços</td>\n",
       "      <td>OUTLOOK</td>\n",
       "      <td>PEQUENO</td>\n",
       "      <td>89</td>\n",
       "    </tr>\n",
       "    <tr>\n",
       "      <th>4</th>\n",
       "      <td>324916756972236008</td>\n",
       "      <td>2011-02-14</td>\n",
       "      <td>88</td>\n",
       "      <td>NaN</td>\n",
       "      <td>Serviços</td>\n",
       "      <td>GMAIL</td>\n",
       "      <td>GRANDE</td>\n",
       "      <td>62</td>\n",
       "    </tr>\n",
       "  </tbody>\n",
       "</table>\n",
       "</div>"
      ],
      "text/plain": [
       "            ID_CLIENTE DATA_CADASTRO DDD FLAG_PF SEGMENTO_INDUSTRIAL  \\\n",
       "0  1661240395903230676    2013-08-22  99     NaN            Serviços   \n",
       "1  8274986328479596038    2017-01-25  31     NaN            Comércio   \n",
       "2   345447888460137901    2000-08-15  75     NaN            Serviços   \n",
       "3  1003144834589372198    2017-08-06  49     NaN            Serviços   \n",
       "4   324916756972236008    2011-02-14  88     NaN            Serviços   \n",
       "\n",
       "  DOMINIO_EMAIL    PORTE CEP_2_DIG  \n",
       "0         YAHOO  PEQUENO        65  \n",
       "1         YAHOO    MEDIO        77  \n",
       "2       HOTMAIL  PEQUENO        48  \n",
       "3       OUTLOOK  PEQUENO        89  \n",
       "4         GMAIL   GRANDE        62  "
      ]
     },
     "execution_count": 3,
     "metadata": {},
     "output_type": "execute_result"
    }
   ],
   "source": [
    "base_cadastral = pd.read_csv(path_cadastral)\n",
    "base_cadastral.head()"
   ]
  },
  {
   "cell_type": "code",
   "execution_count": 4,
   "metadata": {},
   "outputs": [
    {
     "name": "stdout",
     "output_type": "stream",
     "text": [
      "<class 'pandas.core.frame.DataFrame'>\n",
      "RangeIndex: 1315 entries, 0 to 1314\n",
      "Data columns (total 8 columns):\n",
      " #   Column               Non-Null Count  Dtype \n",
      "---  ------               --------------  ----- \n",
      " 0   ID_CLIENTE           1315 non-null   int64 \n",
      " 1   DATA_CADASTRO        1315 non-null   object\n",
      " 2   DDD                  1078 non-null   object\n",
      " 3   FLAG_PF              66 non-null     object\n",
      " 4   SEGMENTO_INDUSTRIAL  1232 non-null   object\n",
      " 5   DOMINIO_EMAIL        1285 non-null   object\n",
      " 6   PORTE                1274 non-null   object\n",
      " 7   CEP_2_DIG            1315 non-null   object\n",
      "dtypes: int64(1), object(7)\n",
      "memory usage: 82.3+ KB\n"
     ]
    }
   ],
   "source": [
    "base_cadastral.info()"
   ]
  },
  {
   "cell_type": "code",
   "execution_count": 5,
   "metadata": {},
   "outputs": [],
   "source": [
    "base_cadastral['ANO_CADASTRO'] = base_cadastral['DATA_CADASTRO'].str[:4]"
   ]
  },
  {
   "cell_type": "code",
   "execution_count": 6,
   "metadata": {},
   "outputs": [],
   "source": [
    "def grafico_distribuicao(titulo,coluna):\n",
    "    plt.title(titulo)\n",
    "    base_cadastral[coluna].value_counts().plot.bar()\n",
    "    plt.show()"
   ]
  },
  {
   "cell_type": "code",
   "execution_count": 7,
   "metadata": {},
   "outputs": [
    {
     "data": {
      "image/png": "[encoded data removed]",
      "text/plain": [
       "<Figure size 432x288 with 1 Axes>"
      ]
     },
     "metadata": {
      "needs_background": "light"
     },
     "output_type": "display_data"
    },
    {
     "data": {
      "image/png": "[encoded data removed]",
      "text/plain": [
       "<Figure size 432x288 with 1 Axes>"
      ]
     },
     "metadata": {
      "needs_background": "light"
     },
     "output_type": "display_data"
    },
    {
     "data": {
      "image/png": "[encoded data removed]",
      "text/plain": [
       "<Figure size 432x288 with 1 Axes>"
      ]
     },
     "metadata": {
      "needs_background": "light"
     },
     "output_type": "display_data"
    },
    {
     "data": {
      "image/png": "[encoded data removed]",
      "text/plain": [
       "<Figure size 432x288 with 1 Axes>"
      ]
     },
     "metadata": {
      "needs_background": "light"
     },
     "output_type": "display_data"
    }
   ],
   "source": [
    "titulos = ['Distribuição dos Segmentos','Distribuição dos Dominios de Email','Distribuição do Porte','Distribuição do Ano de Cadatro']\n",
    "colunas = ['SEGMENTO_INDUSTRIAL','DOMINIO_EMAIL','PORTE','ANO_CADASTRO']\n",
    "\n",
    "for titulo,coluna in zip(titulos,colunas):\n",
    "    grafico_distribuicao(titulo,coluna)"
   ]
  },
  {
   "cell_type": "code",
   "execution_count": 8,
   "metadata": {},
   "outputs": [
    {
     "name": "stderr",
     "output_type": "stream",
     "text": [
      "The default value of regex will change from True to False in a future version. In addition, single character regular expressions will *not* be treated as literal strings when regex=True.\n"
     ]
    },
    {
     "data": {
      "text/plain": [
       "11    125\n",
       "91     70\n",
       "19     50\n",
       "21     39\n",
       "41     37\n",
       "31     33\n",
       "62     31\n",
       "51     28\n",
       "47     25\n",
       "65     23\n",
       "Name: DDD, dtype: int64"
      ]
     },
     "execution_count": 8,
     "metadata": {},
     "output_type": "execute_result"
    }
   ],
   "source": [
    "# Tratamento da coluna DDD e os 10 maiores DDD's com preenchimento\n",
    "base_cadastral['DDD'] = base_cadastral['DDD'].str.replace('(','9') # Tratei a '(' pois normalmente ela está vinculada com o numero 9 no teclado\n",
    "base_cadastral['DDD'].value_counts().head(10)"
   ]
  },
  {
   "cell_type": "code",
   "execution_count": 9,
   "metadata": {},
   "outputs": [
    {
     "data": {
      "text/plain": [
       "sem info    1249\n",
       "X             66\n",
       "Name: FLAG_PF, dtype: int64"
      ]
     },
     "execution_count": 9,
     "metadata": {},
     "output_type": "execute_result"
    }
   ],
   "source": [
    "# Analisando qual volumetria com preenchimento\n",
    "base_cadastral['FLAG_PF'].fillna('sem info').value_counts()"
   ]
  },
  {
   "cell_type": "code",
   "execution_count": 10,
   "metadata": {},
   "outputs": [
    {
     "data": {
      "image/png": "[encoded data removed]",
      "text/plain": [
       "<Figure size 432x288 with 1 Axes>"
      ]
     },
     "metadata": {
      "needs_background": "light"
     },
     "output_type": "display_data"
    }
   ],
   "source": [
    "# Cadastros de maneira ordenada, podemos observar que a partir de 2011 tivemos maiores numeros de cadastros tirando a excessão de 2000\n",
    "base_cadastral.groupby(['ANO_CADASTRO'])[['ANO_CADASTRO']].count().plot.bar()\n",
    "plt.show()"
   ]
  },
  {
   "cell_type": "code",
   "execution_count": 11,
   "metadata": {},
   "outputs": [
    {
     "data": {
      "text/plain": [
       "13    86\n",
       "78    60\n",
       "89    44\n",
       "68    42\n",
       "29    40\n",
       "37    33\n",
       "88    28\n",
       "38    26\n",
       "14    26\n",
       "86    25\n",
       "Name: CEP_2_DIG, dtype: int64"
      ]
     },
     "execution_count": 11,
     "metadata": {},
     "output_type": "execute_result"
    }
   ],
   "source": [
    "# Distribuição dos CEPS\n",
    "base_cadastral['CEP_2_DIG'].value_counts().head(10)"
   ]
  },
  {
   "cell_type": "code",
   "execution_count": 12,
   "metadata": {},
   "outputs": [],
   "source": [
    "# Tratamento de Dados\n",
    "base_cadastral['DDD']    = base_cadastral['DDD'].fillna(-1).astype(int)\n",
    "base_cadastral['FLAG_PF'] = np.where(~base_cadastral['FLAG_PF'].isnull(),1,-1)\n",
    "base_cadastral['SEGMENTO_INDUSTRIAL'] = base_cadastral['SEGMENTO_INDUSTRIAL'].fillna(-1).astype('category').cat.codes \n",
    "base_cadastral['DOMINIO_EMAIL'] = base_cadastral['DOMINIO_EMAIL'].fillna(-1).astype('category').cat.codes\n",
    "base_cadastral['PORTE'] = base_cadastral['PORTE'].fillna(-1).astype('category').cat.codes\n",
    "base_cadastral['CEP_2_DIG'] = base_cadastral['CEP_2_DIG'].replace('na',np.nan).fillna(-1).astype(int)"
   ]
  },
  {
   "attachments": {},
   "cell_type": "markdown",
   "metadata": {},
   "source": [
    "### Base Informações"
   ]
  },
  {
   "cell_type": "code",
   "execution_count": 13,
   "metadata": {},
   "outputs": [
    {
     "data": {
      "text/html": [
       "<div>\n",
       "<style scoped>\n",
       "    .dataframe tbody tr th:only-of-type {\n",
       "        vertical-align: middle;\n",
       "    }\n",
       "\n",
       "    .dataframe tbody tr th {\n",
       "        vertical-align: top;\n",
       "    }\n",
       "\n",
       "    .dataframe thead th {\n",
       "        text-align: right;\n",
       "    }\n",
       "</style>\n",
       "<table border=\"1\" class=\"dataframe\">\n",
       "  <thead>\n",
       "    <tr style=\"text-align: right;\">\n",
       "      <th></th>\n",
       "      <th>ID_CLIENTE</th>\n",
       "      <th>SAFRA_REF</th>\n",
       "      <th>RENDA_MES_ANTERIOR</th>\n",
       "      <th>NO_FUNCIONARIOS</th>\n",
       "    </tr>\n",
       "  </thead>\n",
       "  <tbody>\n",
       "    <tr>\n",
       "      <th>0</th>\n",
       "      <td>1661240395903230676</td>\n",
       "      <td>2018-09</td>\n",
       "      <td>16913.0</td>\n",
       "      <td>92.0</td>\n",
       "    </tr>\n",
       "    <tr>\n",
       "      <th>1</th>\n",
       "      <td>8274986328479596038</td>\n",
       "      <td>2018-09</td>\n",
       "      <td>106430.0</td>\n",
       "      <td>141.0</td>\n",
       "    </tr>\n",
       "    <tr>\n",
       "      <th>2</th>\n",
       "      <td>345447888460137901</td>\n",
       "      <td>2018-09</td>\n",
       "      <td>707439.0</td>\n",
       "      <td>99.0</td>\n",
       "    </tr>\n",
       "    <tr>\n",
       "      <th>3</th>\n",
       "      <td>1003144834589372198</td>\n",
       "      <td>2018-09</td>\n",
       "      <td>239659.0</td>\n",
       "      <td>96.0</td>\n",
       "    </tr>\n",
       "    <tr>\n",
       "      <th>4</th>\n",
       "      <td>324916756972236008</td>\n",
       "      <td>2018-09</td>\n",
       "      <td>203123.0</td>\n",
       "      <td>103.0</td>\n",
       "    </tr>\n",
       "  </tbody>\n",
       "</table>\n",
       "</div>"
      ],
      "text/plain": [
       "            ID_CLIENTE SAFRA_REF  RENDA_MES_ANTERIOR  NO_FUNCIONARIOS\n",
       "0  1661240395903230676   2018-09             16913.0             92.0\n",
       "1  8274986328479596038   2018-09            106430.0            141.0\n",
       "2   345447888460137901   2018-09            707439.0             99.0\n",
       "3  1003144834589372198   2018-09            239659.0             96.0\n",
       "4   324916756972236008   2018-09            203123.0            103.0"
      ]
     },
     "execution_count": 13,
     "metadata": {},
     "output_type": "execute_result"
    }
   ],
   "source": [
    "base_info = pd.read_csv(path_info)\n",
    "base_info.head()"
   ]
  },
  {
   "cell_type": "code",
   "execution_count": 14,
   "metadata": {},
   "outputs": [
    {
     "name": "stdout",
     "output_type": "stream",
     "text": [
      "<class 'pandas.core.frame.DataFrame'>\n",
      "RangeIndex: 24401 entries, 0 to 24400\n",
      "Data columns (total 4 columns):\n",
      " #   Column              Non-Null Count  Dtype  \n",
      "---  ------              --------------  -----  \n",
      " 0   ID_CLIENTE          24401 non-null  int64  \n",
      " 1   SAFRA_REF           24401 non-null  object \n",
      " 2   RENDA_MES_ANTERIOR  24401 non-null  float64\n",
      " 3   NO_FUNCIONARIOS     24401 non-null  float64\n",
      "dtypes: float64(2), int64(1), object(1)\n",
      "memory usage: 762.7+ KB\n"
     ]
    }
   ],
   "source": [
    "base_info.info()"
   ]
  },
  {
   "cell_type": "code",
   "execution_count": 15,
   "metadata": {},
   "outputs": [
    {
     "data": {
      "text/plain": [
       "SAFRA_REF\n",
       "2018-09    106.659134\n",
       "2018-10    106.399293\n",
       "2018-11    106.550542\n",
       "2018-12    106.257549\n",
       "2019-01    112.332136\n",
       "2019-02    113.317291\n",
       "2019-03    113.526221\n",
       "2019-04    112.585841\n",
       "2019-05    112.698774\n",
       "2019-06    113.625659\n",
       "Name: NO_FUNCIONARIOS, dtype: float64"
      ]
     },
     "execution_count": 15,
     "metadata": {},
     "output_type": "execute_result"
    }
   ],
   "source": [
    "base_info.groupby(['SAFRA_REF'])['NO_FUNCIONARIOS'].mean().head(10)"
   ]
  },
  {
   "cell_type": "code",
   "execution_count": 16,
   "metadata": {},
   "outputs": [
    {
     "data": {
      "text/plain": [
       "SAFRA_REF\n",
       "2018-09    274010.983051\n",
       "2018-10    277700.484099\n",
       "2018-11    288293.393502\n",
       "2018-12    298405.083481\n",
       "2019-01    275867.515260\n",
       "2019-02    286771.721925\n",
       "2019-03    286972.166365\n",
       "2019-04    293964.706195\n",
       "2019-05    290033.287215\n",
       "2019-06    284328.794376\n",
       "Name: RENDA_MES_ANTERIOR, dtype: float64"
      ]
     },
     "execution_count": 16,
     "metadata": {},
     "output_type": "execute_result"
    }
   ],
   "source": [
    "base_info.groupby(['SAFRA_REF'])['RENDA_MES_ANTERIOR'].mean().head(10)"
   ]
  },
  {
   "attachments": {},
   "cell_type": "markdown",
   "metadata": {},
   "source": [
    "### Base Pagamentos"
   ]
  },
  {
   "cell_type": "code",
   "execution_count": 17,
   "metadata": {},
   "outputs": [
    {
     "data": {
      "text/html": [
       "<div>\n",
       "<style scoped>\n",
       "    .dataframe tbody tr th:only-of-type {\n",
       "        vertical-align: middle;\n",
       "    }\n",
       "\n",
       "    .dataframe tbody tr th {\n",
       "        vertical-align: top;\n",
       "    }\n",
       "\n",
       "    .dataframe thead th {\n",
       "        text-align: right;\n",
       "    }\n",
       "</style>\n",
       "<table border=\"1\" class=\"dataframe\">\n",
       "  <thead>\n",
       "    <tr style=\"text-align: right;\">\n",
       "      <th></th>\n",
       "      <th>ID_CLIENTE</th>\n",
       "      <th>SAFRA_REF</th>\n",
       "      <th>DATA_EMISSAO_DOCUMENTO</th>\n",
       "      <th>DATA_PAGAMENTO</th>\n",
       "      <th>DATA_VENCIMENTO</th>\n",
       "      <th>VALOR_A_PAGAR</th>\n",
       "      <th>TAXA</th>\n",
       "    </tr>\n",
       "  </thead>\n",
       "  <tbody>\n",
       "    <tr>\n",
       "      <th>0</th>\n",
       "      <td>1661240395903230676</td>\n",
       "      <td>2018-08</td>\n",
       "      <td>2018-08-17</td>\n",
       "      <td>2018-09-06</td>\n",
       "      <td>2018-09-06</td>\n",
       "      <td>35516.41</td>\n",
       "      <td>6.99</td>\n",
       "    </tr>\n",
       "    <tr>\n",
       "      <th>1</th>\n",
       "      <td>1661240395903230676</td>\n",
       "      <td>2018-08</td>\n",
       "      <td>2018-08-19</td>\n",
       "      <td>2018-09-11</td>\n",
       "      <td>2018-09-10</td>\n",
       "      <td>17758.21</td>\n",
       "      <td>6.99</td>\n",
       "    </tr>\n",
       "    <tr>\n",
       "      <th>2</th>\n",
       "      <td>1661240395903230676</td>\n",
       "      <td>2018-08</td>\n",
       "      <td>2018-08-26</td>\n",
       "      <td>2018-09-18</td>\n",
       "      <td>2018-09-17</td>\n",
       "      <td>17431.96</td>\n",
       "      <td>6.99</td>\n",
       "    </tr>\n",
       "    <tr>\n",
       "      <th>3</th>\n",
       "      <td>1661240395903230676</td>\n",
       "      <td>2018-08</td>\n",
       "      <td>2018-08-30</td>\n",
       "      <td>2018-10-11</td>\n",
       "      <td>2018-10-05</td>\n",
       "      <td>1341.00</td>\n",
       "      <td>6.99</td>\n",
       "    </tr>\n",
       "    <tr>\n",
       "      <th>4</th>\n",
       "      <td>1661240395903230676</td>\n",
       "      <td>2018-08</td>\n",
       "      <td>2018-08-31</td>\n",
       "      <td>2018-09-20</td>\n",
       "      <td>2018-09-20</td>\n",
       "      <td>21309.85</td>\n",
       "      <td>6.99</td>\n",
       "    </tr>\n",
       "  </tbody>\n",
       "</table>\n",
       "</div>"
      ],
      "text/plain": [
       "            ID_CLIENTE SAFRA_REF DATA_EMISSAO_DOCUMENTO DATA_PAGAMENTO  \\\n",
       "0  1661240395903230676   2018-08             2018-08-17     2018-09-06   \n",
       "1  1661240395903230676   2018-08             2018-08-19     2018-09-11   \n",
       "2  1661240395903230676   2018-08             2018-08-26     2018-09-18   \n",
       "3  1661240395903230676   2018-08             2018-08-30     2018-10-11   \n",
       "4  1661240395903230676   2018-08             2018-08-31     2018-09-20   \n",
       "\n",
       "  DATA_VENCIMENTO  VALOR_A_PAGAR  TAXA  \n",
       "0      2018-09-06       35516.41  6.99  \n",
       "1      2018-09-10       17758.21  6.99  \n",
       "2      2018-09-17       17431.96  6.99  \n",
       "3      2018-10-05        1341.00  6.99  \n",
       "4      2018-09-20       21309.85  6.99  "
      ]
     },
     "execution_count": 17,
     "metadata": {},
     "output_type": "execute_result"
    }
   ],
   "source": [
    "base_pagamentos_dev = pd.read_csv(path_pagament_dev)\n",
    "base_pagamentos_dev.head()"
   ]
  },
  {
   "cell_type": "code",
   "execution_count": 18,
   "metadata": {},
   "outputs": [],
   "source": [
    "base_pagamentos_dev['QTD_DIAS_EMISSAO_VENCIMENTO'] = (pd.to_datetime(base_pagamentos_dev['DATA_VENCIMENTO']) - pd.to_datetime(base_pagamentos_dev['DATA_EMISSAO_DOCUMENTO'])).dt.days"
   ]
  },
  {
   "cell_type": "code",
   "execution_count": 19,
   "metadata": {},
   "outputs": [],
   "source": [
    "base_pagamentos_dev['DIAS_ATRASO'] = (pd.to_datetime(base_pagamentos_dev['DATA_PAGAMENTO']) - pd.to_datetime(base_pagamentos_dev['DATA_VENCIMENTO'])).dt.days"
   ]
  },
  {
   "cell_type": "code",
   "execution_count": 20,
   "metadata": {},
   "outputs": [
    {
     "data": {
      "text/plain": [
       " 0    60742\n",
       "-1     2841\n",
       " 1     1898\n",
       " 5      955\n",
       "-3      815\n",
       " 7      718\n",
       " 6      700\n",
       " 2      602\n",
       "-2      583\n",
       " 3      525\n",
       "Name: DIAS_ATRASO, dtype: int64"
      ]
     },
     "execution_count": 20,
     "metadata": {},
     "output_type": "execute_result"
    }
   ],
   "source": [
    "base_pagamentos_dev['DIAS_ATRASO'].value_counts().head(10)"
   ]
  },
  {
   "cell_type": "code",
   "execution_count": 1,
   "metadata": {},
   "outputs": [
    {
     "ename": "NameError",
     "evalue": "name 'np' is not defined",
     "output_type": "error",
     "traceback": [
      "\u001b[0;31m---------------------------------------------------------------------------\u001b[0m",
      "\u001b[0;31mNameError\u001b[0m                                 Traceback (most recent call last)",
      "\u001b[1;32m/home/vitor/Documentos/Teste/Testes de Cientistas de Dados - JR-20230510T124614Z-001/Testes de Cientistas de Dados - JR/previsaoCredito.ipynb Célula 24\u001b[0m in \u001b[0;36m<cell line: 1>\u001b[0;34m()\u001b[0m\n\u001b[0;32m----> <a href='vscode-notebook-cell:/home/vitor/Documentos/Teste/Testes%20de%20Cientistas%20de%20Dados%20-%20JR-20230510T124614Z-001/Testes%20de%20Cientistas%20de%20Dados%20-%20JR/previsaoCredito.ipynb#X32sZmlsZQ%3D%3D?line=0'>1</a>\u001b[0m base_pagamentos_dev[\u001b[39m'\u001b[39m\u001b[39mTARGET\u001b[39m\u001b[39m'\u001b[39m] \u001b[39m=\u001b[39m np\u001b[39m.\u001b[39mwhere(base_pagamentos_dev[\u001b[39m'\u001b[39m\u001b[39mDIAS_ATRASO\u001b[39m\u001b[39m'\u001b[39m]\u001b[39m>\u001b[39m\u001b[39m=\u001b[39m\u001b[39m5\u001b[39m,\u001b[39m1\u001b[39m,\u001b[39m0\u001b[39m)\n",
      "\u001b[0;31mNameError\u001b[0m: name 'np' is not defined"
     ]
    }
   ],
   "source": [
    "base_pagamentos_dev['TARGET'] = np.where(base_pagamentos_dev['DIAS_ATRASO']>=5,1,0)"
   ]
  },
  {
   "cell_type": "code",
   "execution_count": 22,
   "metadata": {},
   "outputs": [
    {
     "data": {
      "text/plain": [
       "0    0.92978\n",
       "1    0.07022\n",
       "Name: TARGET, dtype: float64"
      ]
     },
     "execution_count": 22,
     "metadata": {},
     "output_type": "execute_result"
    }
   ],
   "source": [
    "base_pagamentos_dev['TARGET'].value_counts(normalize=True)"
   ]
  },
  {
   "attachments": {},
   "cell_type": "markdown",
   "metadata": {},
   "source": [
    "### Cruzamento Das Bases"
   ]
  },
  {
   "cell_type": "code",
   "execution_count": 23,
   "metadata": {},
   "outputs": [],
   "source": [
    "base_final_dev = pd.merge(base_cadastral,base_pagamentos_dev,how='inner',on=['ID_CLIENTE'])"
   ]
  },
  {
   "cell_type": "code",
   "execution_count": 24,
   "metadata": {},
   "outputs": [
    {
     "data": {
      "text/html": [
       "<div>\n",
       "<style scoped>\n",
       "    .dataframe tbody tr th:only-of-type {\n",
       "        vertical-align: middle;\n",
       "    }\n",
       "\n",
       "    .dataframe tbody tr th {\n",
       "        vertical-align: top;\n",
       "    }\n",
       "\n",
       "    .dataframe thead th {\n",
       "        text-align: right;\n",
       "    }\n",
       "</style>\n",
       "<table border=\"1\" class=\"dataframe\">\n",
       "  <thead>\n",
       "    <tr style=\"text-align: right;\">\n",
       "      <th></th>\n",
       "      <th>ID_CLIENTE</th>\n",
       "      <th>DATA_CADASTRO</th>\n",
       "      <th>DDD</th>\n",
       "      <th>FLAG_PF</th>\n",
       "      <th>SEGMENTO_INDUSTRIAL</th>\n",
       "      <th>DOMINIO_EMAIL</th>\n",
       "      <th>PORTE</th>\n",
       "      <th>CEP_2_DIG</th>\n",
       "      <th>ANO_CADASTRO</th>\n",
       "      <th>SAFRA_REF</th>\n",
       "      <th>DATA_EMISSAO_DOCUMENTO</th>\n",
       "      <th>DATA_PAGAMENTO</th>\n",
       "      <th>DATA_VENCIMENTO</th>\n",
       "      <th>VALOR_A_PAGAR</th>\n",
       "      <th>TAXA</th>\n",
       "      <th>QTD_DIAS_EMISSAO_VENCIMENTO</th>\n",
       "      <th>DIAS_ATRASO</th>\n",
       "      <th>TARGET</th>\n",
       "    </tr>\n",
       "  </thead>\n",
       "  <tbody>\n",
       "    <tr>\n",
       "      <th>0</th>\n",
       "      <td>1661240395903230676</td>\n",
       "      <td>2013-08-22</td>\n",
       "      <td>99</td>\n",
       "      <td>-1</td>\n",
       "      <td>3</td>\n",
       "      <td>6</td>\n",
       "      <td>3</td>\n",
       "      <td>65</td>\n",
       "      <td>2013</td>\n",
       "      <td>2018-08</td>\n",
       "      <td>2018-08-17</td>\n",
       "      <td>2018-09-06</td>\n",
       "      <td>2018-09-06</td>\n",
       "      <td>35516.41</td>\n",
       "      <td>6.99</td>\n",
       "      <td>20</td>\n",
       "      <td>0</td>\n",
       "      <td>0</td>\n",
       "    </tr>\n",
       "    <tr>\n",
       "      <th>1</th>\n",
       "      <td>1661240395903230676</td>\n",
       "      <td>2013-08-22</td>\n",
       "      <td>99</td>\n",
       "      <td>-1</td>\n",
       "      <td>3</td>\n",
       "      <td>6</td>\n",
       "      <td>3</td>\n",
       "      <td>65</td>\n",
       "      <td>2013</td>\n",
       "      <td>2018-08</td>\n",
       "      <td>2018-08-19</td>\n",
       "      <td>2018-09-11</td>\n",
       "      <td>2018-09-10</td>\n",
       "      <td>17758.21</td>\n",
       "      <td>6.99</td>\n",
       "      <td>22</td>\n",
       "      <td>1</td>\n",
       "      <td>0</td>\n",
       "    </tr>\n",
       "    <tr>\n",
       "      <th>2</th>\n",
       "      <td>1661240395903230676</td>\n",
       "      <td>2013-08-22</td>\n",
       "      <td>99</td>\n",
       "      <td>-1</td>\n",
       "      <td>3</td>\n",
       "      <td>6</td>\n",
       "      <td>3</td>\n",
       "      <td>65</td>\n",
       "      <td>2013</td>\n",
       "      <td>2018-08</td>\n",
       "      <td>2018-08-26</td>\n",
       "      <td>2018-09-18</td>\n",
       "      <td>2018-09-17</td>\n",
       "      <td>17431.96</td>\n",
       "      <td>6.99</td>\n",
       "      <td>22</td>\n",
       "      <td>1</td>\n",
       "      <td>0</td>\n",
       "    </tr>\n",
       "    <tr>\n",
       "      <th>3</th>\n",
       "      <td>1661240395903230676</td>\n",
       "      <td>2013-08-22</td>\n",
       "      <td>99</td>\n",
       "      <td>-1</td>\n",
       "      <td>3</td>\n",
       "      <td>6</td>\n",
       "      <td>3</td>\n",
       "      <td>65</td>\n",
       "      <td>2013</td>\n",
       "      <td>2018-08</td>\n",
       "      <td>2018-08-30</td>\n",
       "      <td>2018-10-11</td>\n",
       "      <td>2018-10-05</td>\n",
       "      <td>1341.00</td>\n",
       "      <td>6.99</td>\n",
       "      <td>36</td>\n",
       "      <td>6</td>\n",
       "      <td>1</td>\n",
       "    </tr>\n",
       "    <tr>\n",
       "      <th>4</th>\n",
       "      <td>1661240395903230676</td>\n",
       "      <td>2013-08-22</td>\n",
       "      <td>99</td>\n",
       "      <td>-1</td>\n",
       "      <td>3</td>\n",
       "      <td>6</td>\n",
       "      <td>3</td>\n",
       "      <td>65</td>\n",
       "      <td>2013</td>\n",
       "      <td>2018-08</td>\n",
       "      <td>2018-08-31</td>\n",
       "      <td>2018-09-20</td>\n",
       "      <td>2018-09-20</td>\n",
       "      <td>21309.85</td>\n",
       "      <td>6.99</td>\n",
       "      <td>20</td>\n",
       "      <td>0</td>\n",
       "      <td>0</td>\n",
       "    </tr>\n",
       "    <tr>\n",
       "      <th>...</th>\n",
       "      <td>...</td>\n",
       "      <td>...</td>\n",
       "      <td>...</td>\n",
       "      <td>...</td>\n",
       "      <td>...</td>\n",
       "      <td>...</td>\n",
       "      <td>...</td>\n",
       "      <td>...</td>\n",
       "      <td>...</td>\n",
       "      <td>...</td>\n",
       "      <td>...</td>\n",
       "      <td>...</td>\n",
       "      <td>...</td>\n",
       "      <td>...</td>\n",
       "      <td>...</td>\n",
       "      <td>...</td>\n",
       "      <td>...</td>\n",
       "      <td>...</td>\n",
       "    </tr>\n",
       "    <tr>\n",
       "      <th>77409</th>\n",
       "      <td>2694466161223698243</td>\n",
       "      <td>2021-06-23</td>\n",
       "      <td>98</td>\n",
       "      <td>-1</td>\n",
       "      <td>1</td>\n",
       "      <td>6</td>\n",
       "      <td>3</td>\n",
       "      <td>54</td>\n",
       "      <td>2021</td>\n",
       "      <td>2021-06</td>\n",
       "      <td>2021-06-22</td>\n",
       "      <td>2021-07-21</td>\n",
       "      <td>2021-07-15</td>\n",
       "      <td>3636.81</td>\n",
       "      <td>5.99</td>\n",
       "      <td>23</td>\n",
       "      <td>6</td>\n",
       "      <td>1</td>\n",
       "    </tr>\n",
       "    <tr>\n",
       "      <th>77410</th>\n",
       "      <td>4166581859919473627</td>\n",
       "      <td>2017-08-06</td>\n",
       "      <td>-1</td>\n",
       "      <td>-1</td>\n",
       "      <td>1</td>\n",
       "      <td>4</td>\n",
       "      <td>2</td>\n",
       "      <td>30</td>\n",
       "      <td>2017</td>\n",
       "      <td>2021-06</td>\n",
       "      <td>2021-06-27</td>\n",
       "      <td>2021-07-12</td>\n",
       "      <td>2021-07-12</td>\n",
       "      <td>188830.88</td>\n",
       "      <td>6.99</td>\n",
       "      <td>15</td>\n",
       "      <td>0</td>\n",
       "      <td>0</td>\n",
       "    </tr>\n",
       "    <tr>\n",
       "      <th>77411</th>\n",
       "      <td>4235078665660987689</td>\n",
       "      <td>2017-09-14</td>\n",
       "      <td>11</td>\n",
       "      <td>-1</td>\n",
       "      <td>3</td>\n",
       "      <td>3</td>\n",
       "      <td>1</td>\n",
       "      <td>66</td>\n",
       "      <td>2017</td>\n",
       "      <td>2021-06</td>\n",
       "      <td>2021-06-27</td>\n",
       "      <td>2021-07-15</td>\n",
       "      <td>2021-07-13</td>\n",
       "      <td>109011.35</td>\n",
       "      <td>4.99</td>\n",
       "      <td>16</td>\n",
       "      <td>2</td>\n",
       "      <td>0</td>\n",
       "    </tr>\n",
       "    <tr>\n",
       "      <th>77412</th>\n",
       "      <td>7628167057144760589</td>\n",
       "      <td>2021-05-05</td>\n",
       "      <td>91</td>\n",
       "      <td>-1</td>\n",
       "      <td>1</td>\n",
       "      <td>3</td>\n",
       "      <td>3</td>\n",
       "      <td>14</td>\n",
       "      <td>2021</td>\n",
       "      <td>2021-06</td>\n",
       "      <td>2021-06-29</td>\n",
       "      <td>2021-07-15</td>\n",
       "      <td>2021-07-15</td>\n",
       "      <td>180770.00</td>\n",
       "      <td>11.99</td>\n",
       "      <td>16</td>\n",
       "      <td>0</td>\n",
       "      <td>0</td>\n",
       "    </tr>\n",
       "    <tr>\n",
       "      <th>77413</th>\n",
       "      <td>2814790209436551216</td>\n",
       "      <td>2021-05-13</td>\n",
       "      <td>91</td>\n",
       "      <td>-1</td>\n",
       "      <td>3</td>\n",
       "      <td>6</td>\n",
       "      <td>2</td>\n",
       "      <td>14</td>\n",
       "      <td>2021</td>\n",
       "      <td>2021-06</td>\n",
       "      <td>2021-06-30</td>\n",
       "      <td>2021-07-16</td>\n",
       "      <td>2021-07-16</td>\n",
       "      <td>90231.05</td>\n",
       "      <td>6.99</td>\n",
       "      <td>16</td>\n",
       "      <td>0</td>\n",
       "      <td>0</td>\n",
       "    </tr>\n",
       "  </tbody>\n",
       "</table>\n",
       "<p>77414 rows × 18 columns</p>\n",
       "</div>"
      ],
      "text/plain": [
       "                ID_CLIENTE DATA_CADASTRO  DDD  FLAG_PF  SEGMENTO_INDUSTRIAL  \\\n",
       "0      1661240395903230676    2013-08-22   99       -1                    3   \n",
       "1      1661240395903230676    2013-08-22   99       -1                    3   \n",
       "2      1661240395903230676    2013-08-22   99       -1                    3   \n",
       "3      1661240395903230676    2013-08-22   99       -1                    3   \n",
       "4      1661240395903230676    2013-08-22   99       -1                    3   \n",
       "...                    ...           ...  ...      ...                  ...   \n",
       "77409  2694466161223698243    2021-06-23   98       -1                    1   \n",
       "77410  4166581859919473627    2017-08-06   -1       -1                    1   \n",
       "77411  4235078665660987689    2017-09-14   11       -1                    3   \n",
       "77412  7628167057144760589    2021-05-05   91       -1                    1   \n",
       "77413  2814790209436551216    2021-05-13   91       -1                    3   \n",
       "\n",
       "       DOMINIO_EMAIL  PORTE  CEP_2_DIG ANO_CADASTRO SAFRA_REF  \\\n",
       "0                  6      3         65         2013   2018-08   \n",
       "1                  6      3         65         2013   2018-08   \n",
       "2                  6      3         65         2013   2018-08   \n",
       "3                  6      3         65         2013   2018-08   \n",
       "4                  6      3         65         2013   2018-08   \n",
       "...              ...    ...        ...          ...       ...   \n",
       "77409              6      3         54         2021   2021-06   \n",
       "77410              4      2         30         2017   2021-06   \n",
       "77411              3      1         66         2017   2021-06   \n",
       "77412              3      3         14         2021   2021-06   \n",
       "77413              6      2         14         2021   2021-06   \n",
       "\n",
       "      DATA_EMISSAO_DOCUMENTO DATA_PAGAMENTO DATA_VENCIMENTO  VALOR_A_PAGAR  \\\n",
       "0                 2018-08-17     2018-09-06      2018-09-06       35516.41   \n",
       "1                 2018-08-19     2018-09-11      2018-09-10       17758.21   \n",
       "2                 2018-08-26     2018-09-18      2018-09-17       17431.96   \n",
       "3                 2018-08-30     2018-10-11      2018-10-05        1341.00   \n",
       "4                 2018-08-31     2018-09-20      2018-09-20       21309.85   \n",
       "...                      ...            ...             ...            ...   \n",
       "77409             2021-06-22     2021-07-21      2021-07-15        3636.81   \n",
       "77410             2021-06-27     2021-07-12      2021-07-12      188830.88   \n",
       "77411             2021-06-27     2021-07-15      2021-07-13      109011.35   \n",
       "77412             2021-06-29     2021-07-15      2021-07-15      180770.00   \n",
       "77413             2021-06-30     2021-07-16      2021-07-16       90231.05   \n",
       "\n",
       "        TAXA  QTD_DIAS_EMISSAO_VENCIMENTO  DIAS_ATRASO  TARGET  \n",
       "0       6.99                           20            0       0  \n",
       "1       6.99                           22            1       0  \n",
       "2       6.99                           22            1       0  \n",
       "3       6.99                           36            6       1  \n",
       "4       6.99                           20            0       0  \n",
       "...      ...                          ...          ...     ...  \n",
       "77409   5.99                           23            6       1  \n",
       "77410   6.99                           15            0       0  \n",
       "77411   4.99                           16            2       0  \n",
       "77412  11.99                           16            0       0  \n",
       "77413   6.99                           16            0       0  \n",
       "\n",
       "[77414 rows x 18 columns]"
      ]
     },
     "execution_count": 24,
     "metadata": {},
     "output_type": "execute_result"
    }
   ],
   "source": [
    "base_final_dev"
   ]
  },
  {
   "cell_type": "code",
   "execution_count": 25,
   "metadata": {},
   "outputs": [
    {
     "data": {
      "text/plain": [
       "ID_CLIENTE                       int64\n",
       "DATA_CADASTRO                   object\n",
       "DDD                              int64\n",
       "FLAG_PF                          int64\n",
       "SEGMENTO_INDUSTRIAL               int8\n",
       "DOMINIO_EMAIL                     int8\n",
       "PORTE                             int8\n",
       "CEP_2_DIG                        int64\n",
       "ANO_CADASTRO                    object\n",
       "SAFRA_REF                       object\n",
       "DATA_EMISSAO_DOCUMENTO          object\n",
       "DATA_PAGAMENTO                  object\n",
       "DATA_VENCIMENTO                 object\n",
       "VALOR_A_PAGAR                  float64\n",
       "TAXA                           float64\n",
       "QTD_DIAS_EMISSAO_VENCIMENTO      int64\n",
       "DIAS_ATRASO                      int64\n",
       "TARGET                           int64\n",
       "dtype: object"
      ]
     },
     "execution_count": 25,
     "metadata": {},
     "output_type": "execute_result"
    }
   ],
   "source": [
    "base_final_dev.dtypes"
   ]
  },
  {
   "cell_type": "code",
   "execution_count": 26,
   "metadata": {},
   "outputs": [],
   "source": [
    "base_final_dev = base_final_dev.merge(base_info,how='inner',on=['ID_CLIENTE','SAFRA_REF'])"
   ]
  },
  {
   "cell_type": "code",
   "execution_count": 27,
   "metadata": {},
   "outputs": [],
   "source": [
    "colsModelo = ['DDD','SEGMENTO_INDUSTRIAL','DOMINIO_EMAIL','PORTE','CEP_2_DIG','VALOR_A_PAGAR','TAXA','QTD_DIAS_EMISSAO_VENCIMENTO','RENDA_MES_ANTERIOR', 'NO_FUNCIONARIOS']"
   ]
  },
  {
   "attachments": {},
   "cell_type": "markdown",
   "metadata": {},
   "source": [
    "### Treinando o Modelo"
   ]
  },
  {
   "cell_type": "code",
   "execution_count": 28,
   "metadata": {},
   "outputs": [],
   "source": [
    "X = base_final_dev[colsModelo]\n",
    "y = base_final_dev['TARGET']"
   ]
  },
  {
   "cell_type": "code",
   "execution_count": 29,
   "metadata": {},
   "outputs": [],
   "source": [
    "# Dividindo os Dados de Desenvolvimento em Treino e Teste para poder efetuar a criação do modelo e testar seu desempenho\n",
    "X_train, X_test, y_train, y_test = train_test_split(X, y, test_size = 0.70,random_state=10)"
   ]
  },
  {
   "cell_type": "code",
   "execution_count": 30,
   "metadata": {},
   "outputs": [
    {
     "data": {
      "text/plain": [
       "(0    0.929229\n",
       " 1    0.070771\n",
       " Name: TARGET, dtype: float64,\n",
       " 0    0.930843\n",
       " 1    0.069157\n",
       " Name: TARGET, dtype: float64)"
      ]
     },
     "execution_count": 30,
     "metadata": {},
     "output_type": "execute_result"
    }
   ],
   "source": [
    "# Para verificar como está a distribuição de treino e teste em cada Base\n",
    "y_train.value_counts(normalize=True),y_test.value_counts(normalize=True)"
   ]
  },
  {
   "cell_type": "code",
   "execution_count": 31,
   "metadata": {},
   "outputs": [
    {
     "name": "stdout",
     "output_type": "stream",
     "text": [
      "Acuracia do Modelo Teste:  0.9535910098378505\n"
     ]
    }
   ],
   "source": [
    "# Definindo o modelo que será utilizado\n",
    "clf = RandomForestClassifier(n_estimators = 100)  \n",
    "# Treinando o modelo com os dados de Treino\n",
    "clf.fit(X_train, y_train)\n",
    "# Aplicando o modelo nos Dados de Teste\n",
    "y_pred = clf.predict(X_test)\n",
    "y_pred_train = clf.predict(X_train)\n",
    "# Analisando como está a Acuracia do modelo nos dados de Treino  \n",
    "#print(\"Acuracia do Modelo Treino: \", metrics.accuracy_score(y_train, y_pred_train))\n",
    "# Analisando como está a Acuracia do modelo nos dados de Teste \n",
    "print(\"Acuracia do Modelo Teste: \", metrics.accuracy_score(y_test, y_pred))"
   ]
  },
  {
   "cell_type": "code",
   "execution_count": 32,
   "metadata": {},
   "outputs": [
    {
     "name": "stderr",
     "output_type": "stream",
     "text": [
      "No data for colormapping provided via 'c'. Parameters 'vmin', 'vmax' will be ignored\n"
     ]
    },
    {
     "data": {
      "image/png": "[encoded data removed]",
      "text/plain": [
       "<Figure size 576x396 with 2 Axes>"
      ]
     },
     "metadata": {
      "needs_background": "light"
     },
     "output_type": "display_data"
    }
   ],
   "source": [
    "# Shap onde é apresentado as variaveis mais importante para o modelo\n",
    "explainer = shap.TreeExplainer(clf)\n",
    "shap_values = explainer.shap_values(X_test[:500])\n",
    "shap.summary_plot(shap_values[1], X_test[:500])"
   ]
  },
  {
   "cell_type": "code",
   "execution_count": 33,
   "metadata": {},
   "outputs": [],
   "source": [
    "# Aplicando o Modelo na base de Treino\n",
    "base_final_dev['INADIMPLENTE'] = clf.predict_proba(base_final_dev[colsModelo])[:,1]"
   ]
  },
  {
   "cell_type": "code",
   "execution_count": 34,
   "metadata": {},
   "outputs": [],
   "source": [
    "# Salvando a Base com as colunas solicitadas para Treino\n",
    "path_dev_inadimplente = 'data/base_dev_cliente_inadimplente.csv'\n",
    "base_final_dev[['ID_CLIENTE', 'SAFRA_REF','INADIMPLENTE']].to_csv(path_dev_inadimplente,index=False)"
   ]
  },
  {
   "attachments": {},
   "cell_type": "markdown",
   "metadata": {},
   "source": [
    "### Aplicando na base de Teste"
   ]
  },
  {
   "cell_type": "code",
   "execution_count": 35,
   "metadata": {},
   "outputs": [],
   "source": [
    "base_pagamentos_test = pd.read_csv(path_pagament_test)"
   ]
  },
  {
   "cell_type": "code",
   "execution_count": 36,
   "metadata": {},
   "outputs": [],
   "source": [
    "base_pagamentos_test['QTD_DIAS_EMISSAO_VENCIMENTO'] = (pd.to_datetime(base_pagamentos_test['DATA_VENCIMENTO']) - pd.to_datetime(base_pagamentos_test['DATA_EMISSAO_DOCUMENTO'])).dt.days"
   ]
  },
  {
   "cell_type": "code",
   "execution_count": 37,
   "metadata": {},
   "outputs": [],
   "source": [
    "base_final_test = pd.merge(base_cadastral,base_pagamentos_test,how='inner',on=['ID_CLIENTE'])"
   ]
  },
  {
   "cell_type": "code",
   "execution_count": 38,
   "metadata": {},
   "outputs": [],
   "source": [
    "base_final_test = base_final_test.merge(base_info,how='inner',on=['ID_CLIENTE','SAFRA_REF'])"
   ]
  },
  {
   "cell_type": "code",
   "execution_count": 39,
   "metadata": {},
   "outputs": [],
   "source": [
    "# Aplicando o Modelo na base de Teste\n",
    "base_final_test['INADIMPLENTE'] = clf.predict_proba(base_final_test[colsModelo])[:,1]"
   ]
  },
  {
   "cell_type": "code",
   "execution_count": 40,
   "metadata": {},
   "outputs": [],
   "source": [
    "# Salvando a Base com as colunas solicitadas\n",
    "path_test_inadimplente = 'data/base_teste_cliente_inadimplente.csv'\n",
    "base_final_test[['ID_CLIENTE', 'SAFRA_REF','INADIMPLENTE']].to_csv(path_test_inadimplente,index=False)"
   ]
  }
 ],
 "metadata": {
  "kernelspec": {
   "display_name": "Python 3",
   "language": "python",
   "name": "python3"
  },
  "language_info": {
   "codemirror_mode": {
    "name": "ipython",
    "version": 3
   },
   "file_extension": ".py",
   "mimetype": "text/x-python",
   "name": "python",
   "nbconvert_exporter": "python",
   "pygments_lexer": "ipython3",
   "version": "3.8.10"
  },
  "orig_nbformat": 4
 },
 "nbformat": 4,
 "nbformat_minor": 2
}
